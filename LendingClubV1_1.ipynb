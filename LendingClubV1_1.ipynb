{
  "nbformat": 4,
  "nbformat_minor": 0,
  "metadata": {
    "colab": {
      "name": "LendingClubV1_1.ipynb",
      "provenance": [],
      "collapsed_sections": []
    },
    "kernelspec": {
      "name": "python3",
      "display_name": "Python 3"
    },
    "accelerator": "GPU"
  },
  "cells": [
    {
      "cell_type": "code",
      "metadata": {
        "id": "ve4oUFk-ijvw",
        "outputId": "34628641-3dd4-4964-929f-287f03321f06",
        "colab": {
          "base_uri": "https://localhost:8080/",
          "height": 34
        }
      },
      "source": [
        "#Importing Google Drive to access Dataset\n",
        "from google.colab import drive\n",
        "drive.mount('/content/drive')"
      ],
      "execution_count": 1,
      "outputs": [
        {
          "output_type": "stream",
          "text": [
            "Drive already mounted at /content/drive; to attempt to forcibly remount, call drive.mount(\"/content/drive\", force_remount=True).\n"
          ],
          "name": "stdout"
        }
      ]
    },
    {
      "cell_type": "code",
      "metadata": {
        "id": "pawgW--Wi1Hq"
      },
      "source": [
        "import pandas as pd\n",
        "import numpy as np\n",
        "import matplotlib.pyplot as plt\n",
        "import seaborn as sns\n",
        "from sklearn.model_selection import train_test_split\n",
        "from sklearn.metrics import confusion_matrix\n",
        "%matplotlib inline\n",
        "from sklearn.preprocessing import LabelEncoder\n",
        "from imblearn.over_sampling import SMOTE\n",
        "from sklearn import tree\n",
        "from sklearn.metrics import (classification_report, confusion_matrix , accuracy_score, precision_score,auc,classification_report,\n",
        "                             recall_score,precision_recall_curve,average_precision_score,plot_precision_recall_curve,f1_score)\n",
        "from sklearn.ensemble import RandomForestClassifier\n",
        "import sklearn.metrics as metrics\n",
        "from sklearn.model_selection import GridSearchCV , RandomizedSearchCV\n",
        "import matplotlib.pyplot as plt \n",
        "from xgboost import XGBClassifier\n",
        "from datetime import datetime\n",
        "from collections import Counter\n",
        "from warnings import simplefilter\n",
        "simplefilter(action='ignore', category=FutureWarning)"
      ],
      "execution_count": 90,
      "outputs": []
    },
    {
      "cell_type": "markdown",
      "metadata": {
        "id": "jl45FYGzt2B6"
      },
      "source": [
        "# **LOADING DATASET**"
      ]
    },
    {
      "cell_type": "code",
      "metadata": {
        "id": "KfB32KEajTUV"
      },
      "source": [
        "data = pd.read_csv(\"/content/drive/My Drive/Projects/Lending Club/lcData6m.csv\",low_memory=False)"
      ],
      "execution_count": 5,
      "outputs": []
    },
    {
      "cell_type": "code",
      "metadata": {
        "id": "MJKYHe9KjoPn",
        "outputId": "c5287e03-412d-44c5-9a18-6e4ba3b643b5",
        "colab": {
          "base_uri": "https://localhost:8080/",
          "height": 119
        }
      },
      "source": [
        "data.info(),data.shape"
      ],
      "execution_count": 6,
      "outputs": [
        {
          "output_type": "stream",
          "text": [
            "<class 'pandas.core.frame.DataFrame'>\n",
            "RangeIndex: 120791 entries, 0 to 120790\n",
            "Columns: 145 entries, id to settlement_term\n",
            "dtypes: float64(79), int64(41), object(25)\n",
            "memory usage: 133.6+ MB\n"
          ],
          "name": "stdout"
        },
        {
          "output_type": "execute_result",
          "data": {
            "text/plain": [
              "(None, (120791, 145))"
            ]
          },
          "metadata": {
            "tags": []
          },
          "execution_count": 6
        }
      ]
    },
    {
      "cell_type": "markdown",
      "metadata": {
        "id": "1td5_Flxt0Am"
      },
      "source": [
        "# **DATA ANALYSIS**\n"
      ]
    },
    {
      "cell_type": "code",
      "metadata": {
        "id": "o98ZCVh3mqVJ",
        "outputId": "c1cf7eb8-7e6d-472e-cd88-ac53f68a3a4a",
        "colab": {
          "base_uri": "https://localhost:8080/",
          "height": 346
        }
      },
      "source": [
        "data.describe()\n"
      ],
      "execution_count": 7,
      "outputs": [
        {
          "output_type": "execute_result",
          "data": {
            "text/html": [
              "<div>\n",
              "<style scoped>\n",
              "    .dataframe tbody tr th:only-of-type {\n",
              "        vertical-align: middle;\n",
              "    }\n",
              "\n",
              "    .dataframe tbody tr th {\n",
              "        vertical-align: top;\n",
              "    }\n",
              "\n",
              "    .dataframe thead th {\n",
              "        text-align: right;\n",
              "    }\n",
              "</style>\n",
              "<table border=\"1\" class=\"dataframe\">\n",
              "  <thead>\n",
              "    <tr style=\"text-align: right;\">\n",
              "      <th></th>\n",
              "      <th>id</th>\n",
              "      <th>member_id</th>\n",
              "      <th>loan_amnt</th>\n",
              "      <th>funded_amnt</th>\n",
              "      <th>funded_amnt_inv</th>\n",
              "      <th>int_rate</th>\n",
              "      <th>installment</th>\n",
              "      <th>annual_inc</th>\n",
              "      <th>url</th>\n",
              "      <th>desc</th>\n",
              "      <th>dti</th>\n",
              "      <th>delinq_2yrs</th>\n",
              "      <th>inq_last_6mths</th>\n",
              "      <th>mths_since_last_delinq</th>\n",
              "      <th>mths_since_last_record</th>\n",
              "      <th>open_acc</th>\n",
              "      <th>pub_rec</th>\n",
              "      <th>revol_bal</th>\n",
              "      <th>revol_util</th>\n",
              "      <th>total_acc</th>\n",
              "      <th>out_prncp</th>\n",
              "      <th>out_prncp_inv</th>\n",
              "      <th>total_pymnt</th>\n",
              "      <th>total_pymnt_inv</th>\n",
              "      <th>total_rec_prncp</th>\n",
              "      <th>total_rec_int</th>\n",
              "      <th>total_rec_late_fee</th>\n",
              "      <th>recoveries</th>\n",
              "      <th>collection_recovery_fee</th>\n",
              "      <th>last_pymnt_amnt</th>\n",
              "      <th>collections_12_mths_ex_med</th>\n",
              "      <th>mths_since_last_major_derog</th>\n",
              "      <th>policy_code</th>\n",
              "      <th>annual_inc_joint</th>\n",
              "      <th>dti_joint</th>\n",
              "      <th>verification_status_joint</th>\n",
              "      <th>acc_now_delinq</th>\n",
              "      <th>tot_coll_amt</th>\n",
              "      <th>tot_cur_bal</th>\n",
              "      <th>open_acc_6m</th>\n",
              "      <th>...</th>\n",
              "      <th>num_tl_30dpd</th>\n",
              "      <th>num_tl_90g_dpd_24m</th>\n",
              "      <th>num_tl_op_past_12m</th>\n",
              "      <th>pct_tl_nvr_dlq</th>\n",
              "      <th>percent_bc_gt_75</th>\n",
              "      <th>pub_rec_bankruptcies</th>\n",
              "      <th>tax_liens</th>\n",
              "      <th>tot_hi_cred_lim</th>\n",
              "      <th>total_bal_ex_mort</th>\n",
              "      <th>total_bc_limit</th>\n",
              "      <th>total_il_high_credit_limit</th>\n",
              "      <th>revol_bal_joint</th>\n",
              "      <th>sec_app_earliest_cr_line</th>\n",
              "      <th>sec_app_inq_last_6mths</th>\n",
              "      <th>sec_app_mort_acc</th>\n",
              "      <th>sec_app_open_acc</th>\n",
              "      <th>sec_app_revol_util</th>\n",
              "      <th>sec_app_open_act_il</th>\n",
              "      <th>sec_app_num_rev_accts</th>\n",
              "      <th>sec_app_chargeoff_within_12_mths</th>\n",
              "      <th>sec_app_collections_12_mths_ex_med</th>\n",
              "      <th>sec_app_mths_since_last_major_derog</th>\n",
              "      <th>hardship_type</th>\n",
              "      <th>hardship_reason</th>\n",
              "      <th>hardship_status</th>\n",
              "      <th>deferral_term</th>\n",
              "      <th>hardship_amount</th>\n",
              "      <th>hardship_start_date</th>\n",
              "      <th>hardship_end_date</th>\n",
              "      <th>payment_plan_start_date</th>\n",
              "      <th>hardship_length</th>\n",
              "      <th>hardship_loan_status</th>\n",
              "      <th>orig_projected_additional_accrued_interest</th>\n",
              "      <th>hardship_payoff_balance_amount</th>\n",
              "      <th>hardship_last_payment_amount</th>\n",
              "      <th>debt_settlement_flag_date</th>\n",
              "      <th>settlement_status</th>\n",
              "      <th>settlement_date</th>\n",
              "      <th>settlement_amount</th>\n",
              "      <th>settlement_percentage</th>\n",
              "    </tr>\n",
              "  </thead>\n",
              "  <tbody>\n",
              "    <tr>\n",
              "      <th>count</th>\n",
              "      <td>0.0</td>\n",
              "      <td>0.0</td>\n",
              "      <td>120791.000000</td>\n",
              "      <td>120791.000000</td>\n",
              "      <td>120791.000000</td>\n",
              "      <td>120791.000000</td>\n",
              "      <td>120791.000000</td>\n",
              "      <td>1.207910e+05</td>\n",
              "      <td>0.0</td>\n",
              "      <td>0.0</td>\n",
              "      <td>120791.000000</td>\n",
              "      <td>120791.000000</td>\n",
              "      <td>120791.000000</td>\n",
              "      <td>62925.000000</td>\n",
              "      <td>22598.000000</td>\n",
              "      <td>120791.000000</td>\n",
              "      <td>120791.000000</td>\n",
              "      <td>1.207910e+05</td>\n",
              "      <td>120743.000000</td>\n",
              "      <td>120791.000000</td>\n",
              "      <td>120791.000000</td>\n",
              "      <td>120791.000000</td>\n",
              "      <td>120791.000000</td>\n",
              "      <td>120791.000000</td>\n",
              "      <td>120791.000000</td>\n",
              "      <td>120791.000000</td>\n",
              "      <td>1.207910e+05</td>\n",
              "      <td>120791.000000</td>\n",
              "      <td>120791.000000</td>\n",
              "      <td>120791.000000</td>\n",
              "      <td>120791.000000</td>\n",
              "      <td>36241.000000</td>\n",
              "      <td>120791.0</td>\n",
              "      <td>0.0</td>\n",
              "      <td>0.0</td>\n",
              "      <td>0.0</td>\n",
              "      <td>120791.000000</td>\n",
              "      <td>120791.000000</td>\n",
              "      <td>1.207910e+05</td>\n",
              "      <td>0.0</td>\n",
              "      <td>...</td>\n",
              "      <td>120791.000000</td>\n",
              "      <td>120791.000000</td>\n",
              "      <td>120791.000000</td>\n",
              "      <td>120791.000000</td>\n",
              "      <td>119494.000000</td>\n",
              "      <td>120791.000000</td>\n",
              "      <td>120791.000000</td>\n",
              "      <td>1.207910e+05</td>\n",
              "      <td>1.207910e+05</td>\n",
              "      <td>120791.000000</td>\n",
              "      <td>120791.000000</td>\n",
              "      <td>0.0</td>\n",
              "      <td>0.0</td>\n",
              "      <td>0.0</td>\n",
              "      <td>0.0</td>\n",
              "      <td>0.0</td>\n",
              "      <td>0.0</td>\n",
              "      <td>0.0</td>\n",
              "      <td>0.0</td>\n",
              "      <td>0.0</td>\n",
              "      <td>0.0</td>\n",
              "      <td>0.0</td>\n",
              "      <td>0.0</td>\n",
              "      <td>0.0</td>\n",
              "      <td>0.0</td>\n",
              "      <td>0.0</td>\n",
              "      <td>0.0</td>\n",
              "      <td>0.0</td>\n",
              "      <td>0.0</td>\n",
              "      <td>0.0</td>\n",
              "      <td>0.0</td>\n",
              "      <td>0.0</td>\n",
              "      <td>0.0</td>\n",
              "      <td>0.0</td>\n",
              "      <td>0.0</td>\n",
              "      <td>0.0</td>\n",
              "      <td>0.0</td>\n",
              "      <td>0.0</td>\n",
              "      <td>0.0</td>\n",
              "      <td>0.0</td>\n",
              "    </tr>\n",
              "    <tr>\n",
              "      <th>mean</th>\n",
              "      <td>NaN</td>\n",
              "      <td>NaN</td>\n",
              "      <td>12786.448287</td>\n",
              "      <td>12786.448287</td>\n",
              "      <td>12783.672468</td>\n",
              "      <td>11.507927</td>\n",
              "      <td>420.864632</td>\n",
              "      <td>7.295015e+04</td>\n",
              "      <td>NaN</td>\n",
              "      <td>NaN</td>\n",
              "      <td>18.476351</td>\n",
              "      <td>0.350539</td>\n",
              "      <td>0.585722</td>\n",
              "      <td>33.988113</td>\n",
              "      <td>67.041198</td>\n",
              "      <td>11.591559</td>\n",
              "      <td>0.249588</td>\n",
              "      <td>1.592036e+04</td>\n",
              "      <td>53.380312</td>\n",
              "      <td>24.787434</td>\n",
              "      <td>0.004054</td>\n",
              "      <td>0.004054</td>\n",
              "      <td>13656.110118</td>\n",
              "      <td>13653.128781</td>\n",
              "      <td>11690.745952</td>\n",
              "      <td>1819.731049</td>\n",
              "      <td>1.398891e+00</td>\n",
              "      <td>144.234219</td>\n",
              "      <td>25.846215</td>\n",
              "      <td>3419.825983</td>\n",
              "      <td>0.019654</td>\n",
              "      <td>43.456224</td>\n",
              "      <td>1.0</td>\n",
              "      <td>NaN</td>\n",
              "      <td>NaN</td>\n",
              "      <td>NaN</td>\n",
              "      <td>0.006631</td>\n",
              "      <td>273.866356</td>\n",
              "      <td>1.257949e+05</td>\n",
              "      <td>NaN</td>\n",
              "      <td>...</td>\n",
              "      <td>0.003982</td>\n",
              "      <td>0.100852</td>\n",
              "      <td>2.168150</td>\n",
              "      <td>93.700246</td>\n",
              "      <td>47.240954</td>\n",
              "      <td>0.141219</td>\n",
              "      <td>0.068995</td>\n",
              "      <td>1.566049e+05</td>\n",
              "      <td>4.777861e+04</td>\n",
              "      <td>20251.372089</td>\n",
              "      <td>39785.726139</td>\n",
              "      <td>NaN</td>\n",
              "      <td>NaN</td>\n",
              "      <td>NaN</td>\n",
              "      <td>NaN</td>\n",
              "      <td>NaN</td>\n",
              "      <td>NaN</td>\n",
              "      <td>NaN</td>\n",
              "      <td>NaN</td>\n",
              "      <td>NaN</td>\n",
              "      <td>NaN</td>\n",
              "      <td>NaN</td>\n",
              "      <td>NaN</td>\n",
              "      <td>NaN</td>\n",
              "      <td>NaN</td>\n",
              "      <td>NaN</td>\n",
              "      <td>NaN</td>\n",
              "      <td>NaN</td>\n",
              "      <td>NaN</td>\n",
              "      <td>NaN</td>\n",
              "      <td>NaN</td>\n",
              "      <td>NaN</td>\n",
              "      <td>NaN</td>\n",
              "      <td>NaN</td>\n",
              "      <td>NaN</td>\n",
              "      <td>NaN</td>\n",
              "      <td>NaN</td>\n",
              "      <td>NaN</td>\n",
              "      <td>NaN</td>\n",
              "      <td>NaN</td>\n",
              "    </tr>\n",
              "    <tr>\n",
              "      <th>std</th>\n",
              "      <td>NaN</td>\n",
              "      <td>NaN</td>\n",
              "      <td>7922.284250</td>\n",
              "      <td>7922.284250</td>\n",
              "      <td>7920.687270</td>\n",
              "      <td>3.751527</td>\n",
              "      <td>262.470771</td>\n",
              "      <td>6.412268e+04</td>\n",
              "      <td>NaN</td>\n",
              "      <td>NaN</td>\n",
              "      <td>8.599109</td>\n",
              "      <td>0.942434</td>\n",
              "      <td>0.878231</td>\n",
              "      <td>21.929187</td>\n",
              "      <td>26.919116</td>\n",
              "      <td>5.507671</td>\n",
              "      <td>0.666263</td>\n",
              "      <td>2.342964e+04</td>\n",
              "      <td>23.722584</td>\n",
              "      <td>12.069579</td>\n",
              "      <td>1.408920</td>\n",
              "      <td>1.408920</td>\n",
              "      <td>9112.045929</td>\n",
              "      <td>9110.218270</td>\n",
              "      <td>8020.268066</td>\n",
              "      <td>1527.588701</td>\n",
              "      <td>9.959174e+00</td>\n",
              "      <td>667.945394</td>\n",
              "      <td>119.941167</td>\n",
              "      <td>4979.647173</td>\n",
              "      <td>0.159043</td>\n",
              "      <td>21.178463</td>\n",
              "      <td>0.0</td>\n",
              "      <td>NaN</td>\n",
              "      <td>NaN</td>\n",
              "      <td>NaN</td>\n",
              "      <td>0.097561</td>\n",
              "      <td>2456.061364</td>\n",
              "      <td>1.500334e+05</td>\n",
              "      <td>NaN</td>\n",
              "      <td>...</td>\n",
              "      <td>0.067422</td>\n",
              "      <td>0.552152</td>\n",
              "      <td>1.828484</td>\n",
              "      <td>9.054265</td>\n",
              "      <td>35.996101</td>\n",
              "      <td>0.398369</td>\n",
              "      <td>0.452578</td>\n",
              "      <td>1.725046e+05</td>\n",
              "      <td>4.777053e+04</td>\n",
              "      <td>21239.419341</td>\n",
              "      <td>42211.916872</td>\n",
              "      <td>NaN</td>\n",
              "      <td>NaN</td>\n",
              "      <td>NaN</td>\n",
              "      <td>NaN</td>\n",
              "      <td>NaN</td>\n",
              "      <td>NaN</td>\n",
              "      <td>NaN</td>\n",
              "      <td>NaN</td>\n",
              "      <td>NaN</td>\n",
              "      <td>NaN</td>\n",
              "      <td>NaN</td>\n",
              "      <td>NaN</td>\n",
              "      <td>NaN</td>\n",
              "      <td>NaN</td>\n",
              "      <td>NaN</td>\n",
              "      <td>NaN</td>\n",
              "      <td>NaN</td>\n",
              "      <td>NaN</td>\n",
              "      <td>NaN</td>\n",
              "      <td>NaN</td>\n",
              "      <td>NaN</td>\n",
              "      <td>NaN</td>\n",
              "      <td>NaN</td>\n",
              "      <td>NaN</td>\n",
              "      <td>NaN</td>\n",
              "      <td>NaN</td>\n",
              "      <td>NaN</td>\n",
              "      <td>NaN</td>\n",
              "      <td>NaN</td>\n",
              "    </tr>\n",
              "    <tr>\n",
              "      <th>min</th>\n",
              "      <td>NaN</td>\n",
              "      <td>NaN</td>\n",
              "      <td>1000.000000</td>\n",
              "      <td>1000.000000</td>\n",
              "      <td>975.000000</td>\n",
              "      <td>5.320000</td>\n",
              "      <td>14.010000</td>\n",
              "      <td>3.000000e+03</td>\n",
              "      <td>NaN</td>\n",
              "      <td>NaN</td>\n",
              "      <td>0.000000</td>\n",
              "      <td>0.000000</td>\n",
              "      <td>0.000000</td>\n",
              "      <td>0.000000</td>\n",
              "      <td>0.000000</td>\n",
              "      <td>1.000000</td>\n",
              "      <td>0.000000</td>\n",
              "      <td>0.000000e+00</td>\n",
              "      <td>0.000000</td>\n",
              "      <td>4.000000</td>\n",
              "      <td>0.000000</td>\n",
              "      <td>0.000000</td>\n",
              "      <td>0.000000</td>\n",
              "      <td>0.000000</td>\n",
              "      <td>0.000000</td>\n",
              "      <td>0.000000</td>\n",
              "      <td>-5.100000e-09</td>\n",
              "      <td>0.000000</td>\n",
              "      <td>0.000000</td>\n",
              "      <td>0.000000</td>\n",
              "      <td>0.000000</td>\n",
              "      <td>0.000000</td>\n",
              "      <td>1.0</td>\n",
              "      <td>NaN</td>\n",
              "      <td>NaN</td>\n",
              "      <td>NaN</td>\n",
              "      <td>0.000000</td>\n",
              "      <td>0.000000</td>\n",
              "      <td>0.000000e+00</td>\n",
              "      <td>NaN</td>\n",
              "      <td>...</td>\n",
              "      <td>0.000000</td>\n",
              "      <td>0.000000</td>\n",
              "      <td>0.000000</td>\n",
              "      <td>7.700000</td>\n",
              "      <td>0.000000</td>\n",
              "      <td>0.000000</td>\n",
              "      <td>0.000000</td>\n",
              "      <td>2.500000e+03</td>\n",
              "      <td>0.000000e+00</td>\n",
              "      <td>0.000000</td>\n",
              "      <td>0.000000</td>\n",
              "      <td>NaN</td>\n",
              "      <td>NaN</td>\n",
              "      <td>NaN</td>\n",
              "      <td>NaN</td>\n",
              "      <td>NaN</td>\n",
              "      <td>NaN</td>\n",
              "      <td>NaN</td>\n",
              "      <td>NaN</td>\n",
              "      <td>NaN</td>\n",
              "      <td>NaN</td>\n",
              "      <td>NaN</td>\n",
              "      <td>NaN</td>\n",
              "      <td>NaN</td>\n",
              "      <td>NaN</td>\n",
              "      <td>NaN</td>\n",
              "      <td>NaN</td>\n",
              "      <td>NaN</td>\n",
              "      <td>NaN</td>\n",
              "      <td>NaN</td>\n",
              "      <td>NaN</td>\n",
              "      <td>NaN</td>\n",
              "      <td>NaN</td>\n",
              "      <td>NaN</td>\n",
              "      <td>NaN</td>\n",
              "      <td>NaN</td>\n",
              "      <td>NaN</td>\n",
              "      <td>NaN</td>\n",
              "      <td>NaN</td>\n",
              "      <td>NaN</td>\n",
              "    </tr>\n",
              "    <tr>\n",
              "      <th>25%</th>\n",
              "      <td>NaN</td>\n",
              "      <td>NaN</td>\n",
              "      <td>7000.000000</td>\n",
              "      <td>7000.000000</td>\n",
              "      <td>7000.000000</td>\n",
              "      <td>8.180000</td>\n",
              "      <td>226.230000</td>\n",
              "      <td>4.300000e+04</td>\n",
              "      <td>NaN</td>\n",
              "      <td>NaN</td>\n",
              "      <td>11.950000</td>\n",
              "      <td>0.000000</td>\n",
              "      <td>0.000000</td>\n",
              "      <td>15.000000</td>\n",
              "      <td>49.000000</td>\n",
              "      <td>8.000000</td>\n",
              "      <td>0.000000</td>\n",
              "      <td>5.768000e+03</td>\n",
              "      <td>35.700000</td>\n",
              "      <td>16.000000</td>\n",
              "      <td>0.000000</td>\n",
              "      <td>0.000000</td>\n",
              "      <td>6817.575000</td>\n",
              "      <td>6817.005000</td>\n",
              "      <td>5817.450000</td>\n",
              "      <td>792.945000</td>\n",
              "      <td>0.000000e+00</td>\n",
              "      <td>0.000000</td>\n",
              "      <td>0.000000</td>\n",
              "      <td>318.790000</td>\n",
              "      <td>0.000000</td>\n",
              "      <td>26.000000</td>\n",
              "      <td>1.0</td>\n",
              "      <td>NaN</td>\n",
              "      <td>NaN</td>\n",
              "      <td>NaN</td>\n",
              "      <td>0.000000</td>\n",
              "      <td>0.000000</td>\n",
              "      <td>2.605600e+04</td>\n",
              "      <td>NaN</td>\n",
              "      <td>...</td>\n",
              "      <td>0.000000</td>\n",
              "      <td>0.000000</td>\n",
              "      <td>1.000000</td>\n",
              "      <td>90.500000</td>\n",
              "      <td>14.300000</td>\n",
              "      <td>0.000000</td>\n",
              "      <td>0.000000</td>\n",
              "      <td>4.360950e+04</td>\n",
              "      <td>1.972250e+04</td>\n",
              "      <td>6900.000000</td>\n",
              "      <td>13132.000000</td>\n",
              "      <td>NaN</td>\n",
              "      <td>NaN</td>\n",
              "      <td>NaN</td>\n",
              "      <td>NaN</td>\n",
              "      <td>NaN</td>\n",
              "      <td>NaN</td>\n",
              "      <td>NaN</td>\n",
              "      <td>NaN</td>\n",
              "      <td>NaN</td>\n",
              "      <td>NaN</td>\n",
              "      <td>NaN</td>\n",
              "      <td>NaN</td>\n",
              "      <td>NaN</td>\n",
              "      <td>NaN</td>\n",
              "      <td>NaN</td>\n",
              "      <td>NaN</td>\n",
              "      <td>NaN</td>\n",
              "      <td>NaN</td>\n",
              "      <td>NaN</td>\n",
              "      <td>NaN</td>\n",
              "      <td>NaN</td>\n",
              "      <td>NaN</td>\n",
              "      <td>NaN</td>\n",
              "      <td>NaN</td>\n",
              "      <td>NaN</td>\n",
              "      <td>NaN</td>\n",
              "      <td>NaN</td>\n",
              "      <td>NaN</td>\n",
              "      <td>NaN</td>\n",
              "    </tr>\n",
              "    <tr>\n",
              "      <th>50%</th>\n",
              "      <td>NaN</td>\n",
              "      <td>NaN</td>\n",
              "      <td>10000.000000</td>\n",
              "      <td>10000.000000</td>\n",
              "      <td>10000.000000</td>\n",
              "      <td>11.530000</td>\n",
              "      <td>345.000000</td>\n",
              "      <td>6.000000e+04</td>\n",
              "      <td>NaN</td>\n",
              "      <td>NaN</td>\n",
              "      <td>17.850000</td>\n",
              "      <td>0.000000</td>\n",
              "      <td>0.000000</td>\n",
              "      <td>30.000000</td>\n",
              "      <td>66.000000</td>\n",
              "      <td>11.000000</td>\n",
              "      <td>0.000000</td>\n",
              "      <td>1.061400e+04</td>\n",
              "      <td>53.500000</td>\n",
              "      <td>23.000000</td>\n",
              "      <td>0.000000</td>\n",
              "      <td>0.000000</td>\n",
              "      <td>11292.779106</td>\n",
              "      <td>11287.790000</td>\n",
              "      <td>10000.000000</td>\n",
              "      <td>1409.810000</td>\n",
              "      <td>0.000000e+00</td>\n",
              "      <td>0.000000</td>\n",
              "      <td>0.000000</td>\n",
              "      <td>913.770000</td>\n",
              "      <td>0.000000</td>\n",
              "      <td>44.000000</td>\n",
              "      <td>1.0</td>\n",
              "      <td>NaN</td>\n",
              "      <td>NaN</td>\n",
              "      <td>NaN</td>\n",
              "      <td>0.000000</td>\n",
              "      <td>0.000000</td>\n",
              "      <td>6.204600e+04</td>\n",
              "      <td>NaN</td>\n",
              "      <td>...</td>\n",
              "      <td>0.000000</td>\n",
              "      <td>0.000000</td>\n",
              "      <td>2.000000</td>\n",
              "      <td>97.100000</td>\n",
              "      <td>50.000000</td>\n",
              "      <td>0.000000</td>\n",
              "      <td>0.000000</td>\n",
              "      <td>9.039300e+04</td>\n",
              "      <td>3.530400e+04</td>\n",
              "      <td>13500.000000</td>\n",
              "      <td>29503.000000</td>\n",
              "      <td>NaN</td>\n",
              "      <td>NaN</td>\n",
              "      <td>NaN</td>\n",
              "      <td>NaN</td>\n",
              "      <td>NaN</td>\n",
              "      <td>NaN</td>\n",
              "      <td>NaN</td>\n",
              "      <td>NaN</td>\n",
              "      <td>NaN</td>\n",
              "      <td>NaN</td>\n",
              "      <td>NaN</td>\n",
              "      <td>NaN</td>\n",
              "      <td>NaN</td>\n",
              "      <td>NaN</td>\n",
              "      <td>NaN</td>\n",
              "      <td>NaN</td>\n",
              "      <td>NaN</td>\n",
              "      <td>NaN</td>\n",
              "      <td>NaN</td>\n",
              "      <td>NaN</td>\n",
              "      <td>NaN</td>\n",
              "      <td>NaN</td>\n",
              "      <td>NaN</td>\n",
              "      <td>NaN</td>\n",
              "      <td>NaN</td>\n",
              "      <td>NaN</td>\n",
              "      <td>NaN</td>\n",
              "      <td>NaN</td>\n",
              "      <td>NaN</td>\n",
              "    </tr>\n",
              "    <tr>\n",
              "      <th>75%</th>\n",
              "      <td>NaN</td>\n",
              "      <td>NaN</td>\n",
              "      <td>17000.000000</td>\n",
              "      <td>17000.000000</td>\n",
              "      <td>17000.000000</td>\n",
              "      <td>13.990000</td>\n",
              "      <td>557.940000</td>\n",
              "      <td>8.747950e+04</td>\n",
              "      <td>NaN</td>\n",
              "      <td>NaN</td>\n",
              "      <td>24.540000</td>\n",
              "      <td>0.000000</td>\n",
              "      <td>1.000000</td>\n",
              "      <td>50.000000</td>\n",
              "      <td>83.000000</td>\n",
              "      <td>14.000000</td>\n",
              "      <td>0.000000</td>\n",
              "      <td>1.906450e+04</td>\n",
              "      <td>71.400000</td>\n",
              "      <td>32.000000</td>\n",
              "      <td>0.000000</td>\n",
              "      <td>0.000000</td>\n",
              "      <td>18101.284053</td>\n",
              "      <td>18098.775000</td>\n",
              "      <td>15750.000000</td>\n",
              "      <td>2374.545000</td>\n",
              "      <td>0.000000e+00</td>\n",
              "      <td>0.000000</td>\n",
              "      <td>0.000000</td>\n",
              "      <td>4863.380000</td>\n",
              "      <td>0.000000</td>\n",
              "      <td>61.000000</td>\n",
              "      <td>1.0</td>\n",
              "      <td>NaN</td>\n",
              "      <td>NaN</td>\n",
              "      <td>NaN</td>\n",
              "      <td>0.000000</td>\n",
              "      <td>0.000000</td>\n",
              "      <td>1.842660e+05</td>\n",
              "      <td>NaN</td>\n",
              "      <td>...</td>\n",
              "      <td>0.000000</td>\n",
              "      <td>0.000000</td>\n",
              "      <td>3.000000</td>\n",
              "      <td>100.000000</td>\n",
              "      <td>75.000000</td>\n",
              "      <td>0.000000</td>\n",
              "      <td>0.000000</td>\n",
              "      <td>2.228030e+05</td>\n",
              "      <td>5.953950e+04</td>\n",
              "      <td>26000.000000</td>\n",
              "      <td>53000.500000</td>\n",
              "      <td>NaN</td>\n",
              "      <td>NaN</td>\n",
              "      <td>NaN</td>\n",
              "      <td>NaN</td>\n",
              "      <td>NaN</td>\n",
              "      <td>NaN</td>\n",
              "      <td>NaN</td>\n",
              "      <td>NaN</td>\n",
              "      <td>NaN</td>\n",
              "      <td>NaN</td>\n",
              "      <td>NaN</td>\n",
              "      <td>NaN</td>\n",
              "      <td>NaN</td>\n",
              "      <td>NaN</td>\n",
              "      <td>NaN</td>\n",
              "      <td>NaN</td>\n",
              "      <td>NaN</td>\n",
              "      <td>NaN</td>\n",
              "      <td>NaN</td>\n",
              "      <td>NaN</td>\n",
              "      <td>NaN</td>\n",
              "      <td>NaN</td>\n",
              "      <td>NaN</td>\n",
              "      <td>NaN</td>\n",
              "      <td>NaN</td>\n",
              "      <td>NaN</td>\n",
              "      <td>NaN</td>\n",
              "      <td>NaN</td>\n",
              "      <td>NaN</td>\n",
              "    </tr>\n",
              "    <tr>\n",
              "      <th>max</th>\n",
              "      <td>NaN</td>\n",
              "      <td>NaN</td>\n",
              "      <td>35000.000000</td>\n",
              "      <td>35000.000000</td>\n",
              "      <td>35000.000000</td>\n",
              "      <td>28.490000</td>\n",
              "      <td>1424.570000</td>\n",
              "      <td>8.706582e+06</td>\n",
              "      <td>NaN</td>\n",
              "      <td>NaN</td>\n",
              "      <td>39.990000</td>\n",
              "      <td>20.000000</td>\n",
              "      <td>6.000000</td>\n",
              "      <td>176.000000</td>\n",
              "      <td>120.000000</td>\n",
              "      <td>79.000000</td>\n",
              "      <td>49.000000</td>\n",
              "      <td>2.904836e+06</td>\n",
              "      <td>184.600000</td>\n",
              "      <td>162.000000</td>\n",
              "      <td>489.670000</td>\n",
              "      <td>489.670000</td>\n",
              "      <td>50551.593409</td>\n",
              "      <td>50551.590000</td>\n",
              "      <td>35000.000000</td>\n",
              "      <td>15551.590000</td>\n",
              "      <td>6.349000e+02</td>\n",
              "      <td>23779.780000</td>\n",
              "      <td>4280.360400</td>\n",
              "      <td>36188.840000</td>\n",
              "      <td>14.000000</td>\n",
              "      <td>176.000000</td>\n",
              "      <td>1.0</td>\n",
              "      <td>NaN</td>\n",
              "      <td>NaN</td>\n",
              "      <td>NaN</td>\n",
              "      <td>14.000000</td>\n",
              "      <td>496651.000000</td>\n",
              "      <td>4.447397e+06</td>\n",
              "      <td>NaN</td>\n",
              "      <td>...</td>\n",
              "      <td>3.000000</td>\n",
              "      <td>20.000000</td>\n",
              "      <td>25.000000</td>\n",
              "      <td>100.000000</td>\n",
              "      <td>100.000000</td>\n",
              "      <td>11.000000</td>\n",
              "      <td>46.000000</td>\n",
              "      <td>9.999999e+06</td>\n",
              "      <td>2.921551e+06</td>\n",
              "      <td>684000.000000</td>\n",
              "      <td>905292.000000</td>\n",
              "      <td>NaN</td>\n",
              "      <td>NaN</td>\n",
              "      <td>NaN</td>\n",
              "      <td>NaN</td>\n",
              "      <td>NaN</td>\n",
              "      <td>NaN</td>\n",
              "      <td>NaN</td>\n",
              "      <td>NaN</td>\n",
              "      <td>NaN</td>\n",
              "      <td>NaN</td>\n",
              "      <td>NaN</td>\n",
              "      <td>NaN</td>\n",
              "      <td>NaN</td>\n",
              "      <td>NaN</td>\n",
              "      <td>NaN</td>\n",
              "      <td>NaN</td>\n",
              "      <td>NaN</td>\n",
              "      <td>NaN</td>\n",
              "      <td>NaN</td>\n",
              "      <td>NaN</td>\n",
              "      <td>NaN</td>\n",
              "      <td>NaN</td>\n",
              "      <td>NaN</td>\n",
              "      <td>NaN</td>\n",
              "      <td>NaN</td>\n",
              "      <td>NaN</td>\n",
              "      <td>NaN</td>\n",
              "      <td>NaN</td>\n",
              "      <td>NaN</td>\n",
              "    </tr>\n",
              "  </tbody>\n",
              "</table>\n",
              "<p>8 rows × 120 columns</p>\n",
              "</div>"
            ],
            "text/plain": [
              "        id  member_id  ...  settlement_amount  settlement_percentage\n",
              "count  0.0        0.0  ...                0.0                    0.0\n",
              "mean   NaN        NaN  ...                NaN                    NaN\n",
              "std    NaN        NaN  ...                NaN                    NaN\n",
              "min    NaN        NaN  ...                NaN                    NaN\n",
              "25%    NaN        NaN  ...                NaN                    NaN\n",
              "50%    NaN        NaN  ...                NaN                    NaN\n",
              "75%    NaN        NaN  ...                NaN                    NaN\n",
              "max    NaN        NaN  ...                NaN                    NaN\n",
              "\n",
              "[8 rows x 120 columns]"
            ]
          },
          "metadata": {
            "tags": []
          },
          "execution_count": 7
        }
      ]
    },
    {
      "cell_type": "code",
      "metadata": {
        "id": "WFf18pbqmu24",
        "outputId": "3578d5e7-4cb8-4e46-db77-72c62b46100f",
        "colab": {
          "base_uri": "https://localhost:8080/",
          "height": 85
        }
      },
      "source": [
        "data[\"loan_status\"].value_counts()"
      ],
      "execution_count": 8,
      "outputs": [
        {
          "output_type": "execute_result",
          "data": {
            "text/plain": [
              "Fully Paid     102521\n",
              "Charged Off     18269\n",
              "Current             1\n",
              "Name: loan_status, dtype: int64"
            ]
          },
          "metadata": {
            "tags": []
          },
          "execution_count": 8
        }
      ]
    },
    {
      "cell_type": "markdown",
      "metadata": {
        "id": "Q_bg4BNTt_6l"
      },
      "source": [
        "I droped the current status as, I am only interested in Fully paid and Charged off"
      ]
    },
    {
      "cell_type": "code",
      "metadata": {
        "id": "iW_kw8Nxmuz7"
      },
      "source": [
        "data = data[data.loan_status != \"Current\"]"
      ],
      "execution_count": 9,
      "outputs": []
    },
    {
      "cell_type": "markdown",
      "metadata": {
        "id": "QGZu72GfuJ-t"
      },
      "source": [
        "data distributed based on grade"
      ]
    },
    {
      "cell_type": "code",
      "metadata": {
        "id": "nQwjkAWUmuxM",
        "outputId": "f9420bdd-1b2f-406e-a34b-6a9d8b90941d",
        "colab": {
          "base_uri": "https://localhost:8080/",
          "height": 289
        }
      },
      "source": [
        "data.groupby([\"loan_status\",\"grade\"])[\"grade\"].count()"
      ],
      "execution_count": 10,
      "outputs": [
        {
          "output_type": "execute_result",
          "data": {
            "text/plain": [
              "loan_status  grade\n",
              "Charged Off  A         1770\n",
              "             B         4324\n",
              "             C         6388\n",
              "             D         4007\n",
              "             E         1486\n",
              "             F          261\n",
              "             G           33\n",
              "Fully Paid   A        28855\n",
              "             B        31422\n",
              "             C        27293\n",
              "             D        11382\n",
              "             E         3140\n",
              "             F          367\n",
              "             G           62\n",
              "Name: grade, dtype: int64"
            ]
          },
          "metadata": {
            "tags": []
          },
          "execution_count": 10
        }
      ]
    },
    {
      "cell_type": "code",
      "metadata": {
        "id": "Ih90yExHmuuf",
        "outputId": "fe368c95-cfd7-4a73-e548-8a89007437f6",
        "colab": {
          "base_uri": "https://localhost:8080/",
          "height": 497
        }
      },
      "source": [
        "plt.figure(figsize=(10,8))\n",
        "ax = sns.countplot(x=\"grade\", hue=\"loan_status\", data=data )"
      ],
      "execution_count": 11,
      "outputs": [
        {
          "output_type": "display_data",
          "data": {
            "image/png": "[encoded data removed]",
            "text/plain": [
              "<Figure size 720x576 with 1 Axes>"
            ]
          },
          "metadata": {
            "tags": [],
            "needs_background": "light"
          }
        }
      ]
    },
    {
      "cell_type": "code",
      "metadata": {
        "id": "QIqKZHN2Fcos",
        "outputId": "80612527-1ef0-43ae-d00f-ac47611e7e73",
        "colab": {
          "base_uri": "https://localhost:8080/",
          "height": 515
        }
      },
      "source": [
        "plt.figure(figsize=(10,8))\n",
        "sns.barplot(x=\"loan_status\",y= \"int_rate\",hue = \"grade\",data=data)"
      ],
      "execution_count": 12,
      "outputs": [
        {
          "output_type": "execute_result",
          "data": {
            "text/plain": [
              "<matplotlib.axes._subplots.AxesSubplot at 0x7fca98e2bb70>"
            ]
          },
          "metadata": {
            "tags": []
          },
          "execution_count": 12
        },
        {
          "output_type": "display_data",
          "data": {
            "image/png": "[encoded data removed]",
            "text/plain": [
              "<Figure size 720x576 with 1 Axes>"
            ]
          },
          "metadata": {
            "tags": [],
            "needs_background": "light"
          }
        }
      ]
    },
    {
      "cell_type": "markdown",
      "metadata": {
        "id": "ZzEoBQ27uYJD"
      },
      "source": [
        "Grade and Interest rate interaction"
      ]
    },
    {
      "cell_type": "code",
      "metadata": {
        "id": "ndDdGpnTsmI-",
        "outputId": "5c81b4a3-394a-4086-a001-c7817450c4f8",
        "colab": {
          "base_uri": "https://localhost:8080/",
          "height": 289
        }
      },
      "source": [
        "data.groupby([\"loan_status\",\"grade\"])[\"int_rate\"].mean()\n",
        "#Interest rate increases as we move along the categories"
      ],
      "execution_count": 13,
      "outputs": [
        {
          "output_type": "execute_result",
          "data": {
            "text/plain": [
              "loan_status  grade\n",
              "Charged Off  A         7.272836\n",
              "             B        10.368763\n",
              "             C        13.421129\n",
              "             D        16.696741\n",
              "             E        19.324569\n",
              "             F        23.839923\n",
              "             G        26.105758\n",
              "Fully Paid   A         7.015656\n",
              "             B        10.136377\n",
              "             C        13.309681\n",
              "             D        16.603213\n",
              "             E        19.232608\n",
              "             F        23.718229\n",
              "             G        26.091290\n",
              "Name: int_rate, dtype: float64"
            ]
          },
          "metadata": {
            "tags": []
          },
          "execution_count": 13
        }
      ]
    },
    {
      "cell_type": "code",
      "metadata": {
        "id": "c2jXo9hrsmIT",
        "outputId": "5ed9c339-eecc-4433-db23-1a9c78ace89d",
        "colab": {
          "base_uri": "https://localhost:8080/",
          "height": 238
        }
      },
      "source": [
        "data.groupby([\"loan_status\",\"grade\",\"sub_grade\"])[\"sub_grade\"].count()"
      ],
      "execution_count": 14,
      "outputs": [
        {
          "output_type": "execute_result",
          "data": {
            "text/plain": [
              "loan_status  grade  sub_grade\n",
              "Charged Off  A      A1           103\n",
              "                    A2           192\n",
              "                    A3           252\n",
              "                    A4           448\n",
              "                    A5           775\n",
              "                                ... \n",
              "Fully Paid   F      F5            29\n",
              "             G      G1            25\n",
              "                    G2            18\n",
              "                    G3            13\n",
              "                    G4             6\n",
              "Name: sub_grade, Length: 69, dtype: int64"
            ]
          },
          "metadata": {
            "tags": []
          },
          "execution_count": 14
        }
      ]
    },
    {
      "cell_type": "markdown",
      "metadata": {
        "id": "UCC8kRfRioWb"
      },
      "source": [
        "Grade is further divided into subgrade. \n",
        "Different categories fo Subgrade"
      ]
    },
    {
      "cell_type": "code",
      "metadata": {
        "id": "UX7sbtApsmDw",
        "outputId": "86c14908-5520-4832-904a-19933829aee8",
        "colab": {
          "base_uri": "https://localhost:8080/",
          "height": 629
        }
      },
      "source": [
        "data[\"sub_grade\"].value_counts()"
      ],
      "execution_count": 15,
      "outputs": [
        {
          "output_type": "execute_result",
          "data": {
            "text/plain": [
              "A5    9485\n",
              "B5    8085\n",
              "C1    7896\n",
              "C2    7605\n",
              "A4    7247\n",
              "B4    7192\n",
              "B3    7121\n",
              "B2    7001\n",
              "C3    6883\n",
              "B1    6347\n",
              "C4    6002\n",
              "C5    5295\n",
              "A2    5027\n",
              "A3    4831\n",
              "D1    4364\n",
              "A1    4035\n",
              "D2    3437\n",
              "D3    3102\n",
              "D4    2366\n",
              "D5    2120\n",
              "E1    1557\n",
              "E2    1151\n",
              "E3     933\n",
              "E4     583\n",
              "E5     402\n",
              "F1     239\n",
              "F2     155\n",
              "F3     102\n",
              "F4      79\n",
              "F5      53\n",
              "G1      37\n",
              "G2      29\n",
              "G3      19\n",
              "G4       8\n",
              "G5       2\n",
              "Name: sub_grade, dtype: int64"
            ]
          },
          "metadata": {
            "tags": []
          },
          "execution_count": 15
        }
      ]
    },
    {
      "cell_type": "code",
      "metadata": {
        "id": "Eromp7INsmDC",
        "outputId": "3eb3c718-6aa3-4f35-8baa-b881040987a7",
        "colab": {
          "base_uri": "https://localhost:8080/",
          "height": 238
        }
      },
      "source": [
        "data.groupby([\"loan_status\",\"sub_grade\"])[\"int_rate\"].mean()\n",
        "#interest rate also increases within sub_grade category"
      ],
      "execution_count": 16,
      "outputs": [
        {
          "output_type": "execute_result",
          "data": {
            "text/plain": [
              "loan_status  sub_grade\n",
              "Charged Off  A1            5.687864\n",
              "             A2            6.379323\n",
              "             A3            6.797619\n",
              "             A4            7.108683\n",
              "             A5            7.954258\n",
              "                            ...    \n",
              "Fully Paid   F5           25.620690\n",
              "             G1           26.110400\n",
              "             G2           25.994444\n",
              "             G3           26.043077\n",
              "             G4           26.406667\n",
              "Name: int_rate, Length: 69, dtype: float64"
            ]
          },
          "metadata": {
            "tags": []
          },
          "execution_count": 16
        }
      ]
    },
    {
      "cell_type": "markdown",
      "metadata": {
        "id": "UgWQFAOGi13w"
      },
      "source": [
        "Different categories of Subgrade"
      ]
    },
    {
      "cell_type": "code",
      "metadata": {
        "id": "lMwQHamVFm_-",
        "outputId": "9ea8eb8b-640b-4c2a-ce4a-d8c2cd65db92",
        "colab": {
          "base_uri": "https://localhost:8080/",
          "height": 272
        }
      },
      "source": [
        "data[\"purpose\"].value_counts()"
      ],
      "execution_count": 17,
      "outputs": [
        {
          "output_type": "execute_result",
          "data": {
            "text/plain": [
              "debt_consolidation    71988\n",
              "credit_card           28495\n",
              "home_improvement       6631\n",
              "other                  6031\n",
              "major_purchase         2046\n",
              "car                    1151\n",
              "medical                1150\n",
              "small_business         1056\n",
              "moving                  866\n",
              "vacation                857\n",
              "house                   441\n",
              "renewable_energy         75\n",
              "wedding                   2\n",
              "educational               1\n",
              "Name: purpose, dtype: int64"
            ]
          },
          "metadata": {
            "tags": []
          },
          "execution_count": 17
        }
      ]
    },
    {
      "cell_type": "markdown",
      "metadata": {
        "id": "z9gijUj1i5_H"
      },
      "source": [
        "Loan Status and Purpose interaction"
      ]
    },
    {
      "cell_type": "code",
      "metadata": {
        "id": "EAULenrYFm-7",
        "outputId": "e9ab577c-ed60-4644-aa68-ba07931ff7c9",
        "colab": {
          "base_uri": "https://localhost:8080/",
          "height": 493
        }
      },
      "source": [
        "data.groupby([\"loan_status\",\"purpose\"])[\"purpose\"].count()\n",
        "#maxmimum charged off is for debt consolidation which is 3 times more than second best for cc"
      ],
      "execution_count": 18,
      "outputs": [
        {
          "output_type": "execute_result",
          "data": {
            "text/plain": [
              "loan_status  purpose           \n",
              "Charged Off  car                     149\n",
              "             credit_card            3551\n",
              "             debt_consolidation    11472\n",
              "             home_improvement        880\n",
              "             house                    91\n",
              "             major_purchase          307\n",
              "             medical                 203\n",
              "             moving                  178\n",
              "             other                  1034\n",
              "             renewable_energy         18\n",
              "             small_business          244\n",
              "             vacation                142\n",
              "Fully Paid   car                    1002\n",
              "             credit_card           24944\n",
              "             debt_consolidation    60516\n",
              "             educational               1\n",
              "             home_improvement       5751\n",
              "             house                   350\n",
              "             major_purchase         1739\n",
              "             medical                 947\n",
              "             moving                  688\n",
              "             other                  4997\n",
              "             renewable_energy         57\n",
              "             small_business          812\n",
              "             vacation                715\n",
              "             wedding                   2\n",
              "Name: purpose, dtype: int64"
            ]
          },
          "metadata": {
            "tags": []
          },
          "execution_count": 18
        }
      ]
    },
    {
      "cell_type": "markdown",
      "metadata": {
        "id": "FZo6bNBkjEvk"
      },
      "source": [
        "Both have almost same number of loans"
      ]
    },
    {
      "cell_type": "markdown",
      "metadata": {
        "id": "8rNmryPEjJrL"
      },
      "source": [
        "#### Grade and Interest rate with loan amount interaction"
      ]
    },
    {
      "cell_type": "code",
      "metadata": {
        "id": "pXH1vhoxFm6S",
        "outputId": "7ccc3726-d0fe-416c-f766-327e80c9c289",
        "colab": {
          "base_uri": "https://localhost:8080/",
          "height": 493
        }
      },
      "source": [
        "data.groupby([\"loan_status\",\"purpose\"])[\"loan_amnt\"].mean()"
      ],
      "execution_count": 19,
      "outputs": [
        {
          "output_type": "execute_result",
          "data": {
            "text/plain": [
              "loan_status  purpose           \n",
              "Charged Off  car                    9114.932886\n",
              "             credit_card           13189.073500\n",
              "             debt_consolidation    12756.339348\n",
              "             home_improvement      12965.965909\n",
              "             house                 11939.010989\n",
              "             major_purchase        11130.700326\n",
              "             medical                7513.916256\n",
              "             moving                 7691.292135\n",
              "             other                  8913.902321\n",
              "             renewable_energy       8677.777778\n",
              "             small_business        15105.430328\n",
              "             vacation               6519.718310\n",
              "Fully Paid   car                    7999.251497\n",
              "             credit_card           13944.162925\n",
              "             debt_consolidation    13198.375636\n",
              "             educational            2200.000000\n",
              "             home_improvement      12169.527039\n",
              "             house                 12244.000000\n",
              "             major_purchase        10303.982174\n",
              "             medical                7489.836325\n",
              "             moving                 6925.654070\n",
              "             other                  8568.791275\n",
              "             renewable_energy       7646.929825\n",
              "             small_business        13884.390394\n",
              "             vacation               5600.314685\n",
              "             wedding                3600.000000\n",
              "Name: loan_amnt, dtype: float64"
            ]
          },
          "metadata": {
            "tags": []
          },
          "execution_count": 19
        }
      ]
    },
    {
      "cell_type": "code",
      "metadata": {
        "id": "ACNg9DFusl8U"
      },
      "source": [
        "data[\"annual_ret\"] = ((data[\"total_pymnt\"] - data[\"funded_amnt\"])/data[\"funded_amnt\"])/(12/36)*100\n",
        "#total_pymnt =\tPayments received to date for total amount funded\n",
        "#funded_amnt =\tThe total amount committed to that loan at that point in time"
      ],
      "execution_count": 20,
      "outputs": []
    },
    {
      "cell_type": "code",
      "metadata": {
        "id": "E9u1px8Zmur1",
        "outputId": "6d8f6277-cd83-4289-a1bb-7f9eff53bcfe",
        "colab": {
          "base_uri": "https://localhost:8080/",
          "height": 238
        }
      },
      "source": [
        "data.groupby([\"loan_status\",\"annual_ret\"])[\"annual_ret\"].count()"
      ],
      "execution_count": 21,
      "outputs": [
        {
          "output_type": "execute_result",
          "data": {
            "text/plain": [
              "loan_status  annual_ret \n",
              "Charged Off  -300.000000    11\n",
              "             -295.167679     1\n",
              "             -292.725857     1\n",
              "             -291.003200     1\n",
              "             -290.822000     1\n",
              "                            ..\n",
              "Fully Paid    139.408515     1\n",
              "              140.806142     1\n",
              "              143.129212     1\n",
              "              145.868084     1\n",
              "              162.299152     1\n",
              "Name: annual_ret, Length: 114385, dtype: int64"
            ]
          },
          "metadata": {
            "tags": []
          },
          "execution_count": 21
        }
      ]
    },
    {
      "cell_type": "code",
      "metadata": {
        "id": "TWqI7qwBmupG",
        "outputId": "39b8d8b5-2d45-46bb-c4fd-0ff548aee858",
        "colab": {
          "base_uri": "https://localhost:8080/",
          "height": 221
        }
      },
      "source": [
        "data[\"last_pymnt_d\"]"
      ],
      "execution_count": 22,
      "outputs": [
        {
          "output_type": "execute_result",
          "data": {
            "text/plain": [
              "0         Mar-2016\n",
              "1         Sep-2016\n",
              "2         Sep-2016\n",
              "3         Jan-2018\n",
              "4         Jun-2018\n",
              "            ...   \n",
              "120786    Sep-2016\n",
              "120787    Feb-2016\n",
              "120788    Jan-2018\n",
              "120789    Feb-2018\n",
              "120790    May-2017\n",
              "Name: last_pymnt_d, Length: 120790, dtype: object"
            ]
          },
          "metadata": {
            "tags": []
          },
          "execution_count": 22
        }
      ]
    },
    {
      "cell_type": "markdown",
      "metadata": {
        "id": "9w9QayhBu3F0"
      },
      "source": [
        "# **DATA ENGENERING AND WRANGLING**"
      ]
    },
    {
      "cell_type": "markdown",
      "metadata": {
        "id": "mikO5OrDjYeU"
      },
      "source": [
        "Converting date to datetype"
      ]
    },
    {
      "cell_type": "code",
      "metadata": {
        "id": "Bmmc6fUkR-Yk"
      },
      "source": [
        "data['last_pymnt_d']=data['last_pymnt_d'].astype(str) + '-01'\n",
        "data['last_pymnt_d']=pd.to_datetime(data['last_pymnt_d'],format='%b-%Y-%d',errors='coerce')\n",
        "\n",
        "\n",
        "data['issue_d']=data[\"issue_d\"].str.replace(\"T00:00:00Z\", \"\")\n",
        "data['issue_d']=pd.to_datetime(data['issue_d'],format='%Y-%m-%d',errors='coerce')"
      ],
      "execution_count": 23,
      "outputs": []
    },
    {
      "cell_type": "markdown",
      "metadata": {
        "id": "ZgHQmdeYjd_U"
      },
      "source": [
        "Getting Acutal Term"
      ]
    },
    {
      "cell_type": "code",
      "metadata": {
        "id": "JzHSwChZR-Xk"
      },
      "source": [
        "data[\"actual_term\"] = (data[\"last_pymnt_d\"] - data[\"issue_d\"])"
      ],
      "execution_count": 24,
      "outputs": []
    },
    {
      "cell_type": "code",
      "metadata": {
        "id": "LI-xH5EgR-TK"
      },
      "source": [
        "data[\"actual_term\"] = data[\"actual_term\"].dt.days/365"
      ],
      "execution_count": 25,
      "outputs": []
    },
    {
      "cell_type": "code",
      "metadata": {
        "id": "ggGs2uqMR-SR",
        "outputId": "37cf7bef-ceff-45a3-dffe-935baa2dc515",
        "colab": {
          "base_uri": "https://localhost:8080/",
          "height": 221
        }
      },
      "source": [
        "data[\"actual_term\"]"
      ],
      "execution_count": 26,
      "outputs": [
        {
          "output_type": "execute_result",
          "data": {
            "text/plain": [
              "0         0.750685\n",
              "1         1.254795\n",
              "2         1.254795\n",
              "3         2.589041\n",
              "4         3.002740\n",
              "            ...   \n",
              "120786    1.668493\n",
              "120787    1.084932\n",
              "120788    3.002740\n",
              "120789    3.087671\n",
              "120790    2.331507\n",
              "Name: actual_term, Length: 120790, dtype: float64"
            ]
          },
          "metadata": {
            "tags": []
          },
          "execution_count": 26
        }
      ]
    },
    {
      "cell_type": "code",
      "metadata": {
        "id": "k9D0_zyyR-OL",
        "outputId": "1e122302-af32-4323-ce89-36c9b5007e81",
        "colab": {
          "base_uri": "https://localhost:8080/",
          "height": 419
        }
      },
      "source": [
        "data['actual_term'] = np.where(data['loan_status'] != 'Fully Paid', 3.0, data['actual_term'])\n",
        "data[{'loan_status','actual_term'}]"
      ],
      "execution_count": 27,
      "outputs": [
        {
          "output_type": "execute_result",
          "data": {
            "text/html": [
              "<div>\n",
              "<style scoped>\n",
              "    .dataframe tbody tr th:only-of-type {\n",
              "        vertical-align: middle;\n",
              "    }\n",
              "\n",
              "    .dataframe tbody tr th {\n",
              "        vertical-align: top;\n",
              "    }\n",
              "\n",
              "    .dataframe thead th {\n",
              "        text-align: right;\n",
              "    }\n",
              "</style>\n",
              "<table border=\"1\" class=\"dataframe\">\n",
              "  <thead>\n",
              "    <tr style=\"text-align: right;\">\n",
              "      <th></th>\n",
              "      <th>actual_term</th>\n",
              "      <th>loan_status</th>\n",
              "    </tr>\n",
              "  </thead>\n",
              "  <tbody>\n",
              "    <tr>\n",
              "      <th>0</th>\n",
              "      <td>0.750685</td>\n",
              "      <td>Fully Paid</td>\n",
              "    </tr>\n",
              "    <tr>\n",
              "      <th>1</th>\n",
              "      <td>3.000000</td>\n",
              "      <td>Charged Off</td>\n",
              "    </tr>\n",
              "    <tr>\n",
              "      <th>2</th>\n",
              "      <td>3.000000</td>\n",
              "      <td>Charged Off</td>\n",
              "    </tr>\n",
              "    <tr>\n",
              "      <th>3</th>\n",
              "      <td>2.589041</td>\n",
              "      <td>Fully Paid</td>\n",
              "    </tr>\n",
              "    <tr>\n",
              "      <th>4</th>\n",
              "      <td>3.002740</td>\n",
              "      <td>Fully Paid</td>\n",
              "    </tr>\n",
              "    <tr>\n",
              "      <th>...</th>\n",
              "      <td>...</td>\n",
              "      <td>...</td>\n",
              "    </tr>\n",
              "    <tr>\n",
              "      <th>120786</th>\n",
              "      <td>1.668493</td>\n",
              "      <td>Fully Paid</td>\n",
              "    </tr>\n",
              "    <tr>\n",
              "      <th>120787</th>\n",
              "      <td>3.000000</td>\n",
              "      <td>Charged Off</td>\n",
              "    </tr>\n",
              "    <tr>\n",
              "      <th>120788</th>\n",
              "      <td>3.002740</td>\n",
              "      <td>Fully Paid</td>\n",
              "    </tr>\n",
              "    <tr>\n",
              "      <th>120789</th>\n",
              "      <td>3.087671</td>\n",
              "      <td>Fully Paid</td>\n",
              "    </tr>\n",
              "    <tr>\n",
              "      <th>120790</th>\n",
              "      <td>2.331507</td>\n",
              "      <td>Fully Paid</td>\n",
              "    </tr>\n",
              "  </tbody>\n",
              "</table>\n",
              "<p>120790 rows × 2 columns</p>\n",
              "</div>"
            ],
            "text/plain": [
              "        actual_term  loan_status\n",
              "0          0.750685   Fully Paid\n",
              "1          3.000000  Charged Off\n",
              "2          3.000000  Charged Off\n",
              "3          2.589041   Fully Paid\n",
              "4          3.002740   Fully Paid\n",
              "...             ...          ...\n",
              "120786     1.668493   Fully Paid\n",
              "120787     3.000000  Charged Off\n",
              "120788     3.002740   Fully Paid\n",
              "120789     3.087671   Fully Paid\n",
              "120790     2.331507   Fully Paid\n",
              "\n",
              "[120790 rows x 2 columns]"
            ]
          },
          "metadata": {
            "tags": []
          },
          "execution_count": 27
        }
      ]
    },
    {
      "cell_type": "markdown",
      "metadata": {
        "id": "Q-lRtuenjh5x"
      },
      "source": [
        "Deriving Actual Return"
      ]
    },
    {
      "cell_type": "code",
      "metadata": {
        "id": "iQWdR43FR-L3",
        "outputId": "68889d9c-a005-4653-89d7-d57ca130f18b",
        "colab": {
          "base_uri": "https://localhost:8080/",
          "height": 221
        }
      },
      "source": [
        "data['actual_return'] = ((data['total_pymnt'] - data['funded_amnt'])/data['funded_amnt'])*(1/data['actual_term'])*100\n",
        "data['actual_return']"
      ],
      "execution_count": 28,
      "outputs": [
        {
          "output_type": "execute_result",
          "data": {
            "text/plain": [
              "0          9.300395\n",
              "1        -16.464684\n",
              "2        -10.931667\n",
              "3          4.771663\n",
              "4          4.190869\n",
              "            ...    \n",
              "120786    12.435996\n",
              "120787   -18.986750\n",
              "120788     6.484891\n",
              "120789     6.293425\n",
              "120790     8.010670\n",
              "Name: actual_return, Length: 120790, dtype: float64"
            ]
          },
          "metadata": {
            "tags": []
          },
          "execution_count": 28
        }
      ]
    },
    {
      "cell_type": "code",
      "metadata": {
        "id": "R2hHDX_fAUgB",
        "outputId": "ae7e274b-cfd2-40f4-c53e-c82e70cf764c",
        "colab": {
          "base_uri": "https://localhost:8080/",
          "height": 34
        }
      },
      "source": [
        "data.shape"
      ],
      "execution_count": 29,
      "outputs": [
        {
          "output_type": "execute_result",
          "data": {
            "text/plain": [
              "(120790, 148)"
            ]
          },
          "metadata": {
            "tags": []
          },
          "execution_count": 29
        }
      ]
    },
    {
      "cell_type": "markdown",
      "metadata": {
        "id": "HCGF0up0jnxQ"
      },
      "source": [
        "### **Handling Missing Data**"
      ]
    },
    {
      "cell_type": "markdown",
      "metadata": {
        "id": "z3BIyK2IvUeR"
      },
      "source": [
        "REMOVING COLUMNS WITH MORE THAN 45% DATA MISSING"
      ]
    },
    {
      "cell_type": "code",
      "metadata": {
        "id": "mKelvVCqmumv",
        "outputId": "4e4e9ec7-7508-46ac-b95c-a3d9bed187df",
        "colab": {
          "base_uri": "https://localhost:8080/",
          "height": 238
        }
      },
      "source": [
        "data = data.loc[:,data.isnull().mean() < 0.45]\n",
        "\n",
        "#Columns with null values\n",
        "null_columns = []\n",
        "for column in data:\n",
        "    if data[column].isnull().any():\n",
        "       null_columns.append(column)\n",
        "       print('Percentage of null values in {0} is {1} %'.format(column, round(data[column].isnull().mean()*100,2)))"
      ],
      "execution_count": 30,
      "outputs": [
        {
          "output_type": "stream",
          "text": [
            "Percentage of null values in emp_title is 6.25 %\n",
            "Percentage of null values in emp_length is 6.23 %\n",
            "Percentage of null values in revol_util is 0.04 %\n",
            "Percentage of null values in last_pymnt_d is 0.06 %\n",
            "Percentage of null values in last_credit_pull_d is 0.0 %\n",
            "Percentage of null values in bc_open_to_buy is 1.02 %\n",
            "Percentage of null values in bc_util is 1.09 %\n",
            "Percentage of null values in mo_sin_old_il_acct is 3.67 %\n",
            "Percentage of null values in mths_since_recent_bc is 0.97 %\n",
            "Percentage of null values in mths_since_recent_inq is 10.65 %\n",
            "Percentage of null values in num_tl_120dpd_2m is 3.54 %\n",
            "Percentage of null values in percent_bc_gt_75 is 1.07 %\n",
            "Percentage of null values in actual_return is 0.0 %\n"
          ],
          "name": "stdout"
        }
      ]
    },
    {
      "cell_type": "code",
      "metadata": {
        "id": "ap74ATdFAXXK",
        "outputId": "d1a19fea-98e0-437c-b18c-aa1596d31b36",
        "colab": {
          "base_uri": "https://localhost:8080/",
          "height": 34
        }
      },
      "source": [
        "data.shape\n"
      ],
      "execution_count": 31,
      "outputs": [
        {
          "output_type": "execute_result",
          "data": {
            "text/plain": [
              "(120790, 90)"
            ]
          },
          "metadata": {
            "tags": []
          },
          "execution_count": 31
        }
      ]
    },
    {
      "cell_type": "code",
      "metadata": {
        "id": "9KOCqCooh6OD"
      },
      "source": [
        "#data = data.drop([\"emp_length\",\"emp_title\"],axis = 1)"
      ],
      "execution_count": 32,
      "outputs": []
    },
    {
      "cell_type": "markdown",
      "metadata": {
        "id": "9a2zIua4vfsL"
      },
      "source": [
        "### 89 predictors"
      ]
    },
    {
      "cell_type": "markdown",
      "metadata": {
        "id": "arYUpm5Yj674"
      },
      "source": [
        "### Replacing missing data with mode and mean of the column"
      ]
    },
    {
      "cell_type": "code",
      "metadata": {
        "id": "z8nURXl4eCeT"
      },
      "source": [
        "data['bc_util'] = data['bc_util'].fillna((data['bc_util'].mode()))\n",
        "data['revol_util'] = data['revol_util'].fillna((data['revol_util'].mean()))\n",
        "data['bc_open_to_buy'] = data['bc_open_to_buy'].fillna((data['bc_open_to_buy'].mean()))\n",
        "data['bc_util'] = data['bc_util'].fillna((data['bc_util'].mean()))\n",
        "data['mo_sin_old_il_acct'] = data['mo_sin_old_il_acct'].fillna((data['mo_sin_old_il_acct'].mean()))\n",
        "data['mths_since_recent_bc'] = data['mths_since_recent_bc'].fillna((data['mths_since_recent_bc'].mean()))\n",
        "data['mths_since_recent_inq'] = data['mths_since_recent_inq'].fillna((data['mths_since_recent_inq'].mean()))\n",
        "data['percent_bc_gt_75'] = data['percent_bc_gt_75'].fillna((data['percent_bc_gt_75'].mean()))"
      ],
      "execution_count": 33,
      "outputs": []
    },
    {
      "cell_type": "code",
      "metadata": {
        "id": "EHF6ShoVbqPZ",
        "outputId": "6ffa3ad2-3ca7-4d83-c8b6-ebe50ea625fa",
        "colab": {
          "base_uri": "https://localhost:8080/",
          "height": 119
        }
      },
      "source": [
        "null_columns = []\n",
        "for column in data:\n",
        "    if data[column].isnull().any():\n",
        "       null_columns.append(column)\n",
        "       print('Percentage of null values in {0} is {1} %'.format(column, round(data[column].isnull().mean()*100,2)))"
      ],
      "execution_count": 34,
      "outputs": [
        {
          "output_type": "stream",
          "text": [
            "Percentage of null values in emp_title is 6.25 %\n",
            "Percentage of null values in emp_length is 6.23 %\n",
            "Percentage of null values in last_pymnt_d is 0.06 %\n",
            "Percentage of null values in last_credit_pull_d is 0.0 %\n",
            "Percentage of null values in num_tl_120dpd_2m is 3.54 %\n",
            "Percentage of null values in actual_return is 0.0 %\n"
          ],
          "name": "stdout"
        }
      ]
    },
    {
      "cell_type": "code",
      "metadata": {
        "id": "QZVSCt0I8Vih",
        "outputId": "9336cf71-330e-4f5e-de5a-b1145afcab63",
        "colab": {
          "base_uri": "https://localhost:8080/",
          "height": 85
        }
      },
      "source": [
        "data.groupby(\"loan_status\")[\"loan_status\"].count()"
      ],
      "execution_count": 36,
      "outputs": [
        {
          "output_type": "execute_result",
          "data": {
            "text/plain": [
              "loan_status\n",
              "Charged Off     18269\n",
              "Fully Paid     102521\n",
              "Name: loan_status, dtype: int64"
            ]
          },
          "metadata": {
            "tags": []
          },
          "execution_count": 36
        }
      ]
    },
    {
      "cell_type": "markdown",
      "metadata": {
        "id": "QsPjCojgb7JF"
      },
      "source": [
        "### Droping varibles which are not available at the time of application of a loan, variable with no variance within the variable"
      ]
    },
    {
      "cell_type": "code",
      "metadata": {
        "id": "o2nwaYeTUXSy"
      },
      "source": [
        "data = data.drop([\"annual_ret\",\"actual_return\",\"recoveries\",\"collection_recovery_fee\",\"actual_term\",\"issue_d\",\"earliest_cr_line\",\"pymnt_plan\",\"out_prncp\",\"policy_code\",\"application_type\",\"hardship_flag\",\"disbursement_method\",\"last_pymnt_d\",\"last_credit_pull_d\",\"total_rec_prncp\",\"debt_settlement_flag\",\"term\",\"total_pymnt\",\"total_pymnt_inv\",\"emp_length\",\"last_pymnt_amnt\",\"num_tl_120dpd_2m\"],axis = 1)"
      ],
      "execution_count": 37,
      "outputs": []
    },
    {
      "cell_type": "markdown",
      "metadata": {
        "id": "ei-dR-HLvrr-"
      },
      "source": [
        "FINDING CORELATION WITH LOAN_STATUS"
      ]
    },
    {
      "cell_type": "code",
      "metadata": {
        "id": "MWtHTeeLjI7E",
        "outputId": "38b88b96-a5c6-4ac9-b5e7-763b478b51fa",
        "colab": {
          "base_uri": "https://localhost:8080/",
          "height": 544
        }
      },
      "source": [
        "data['loan_status']=data['loan_status'].astype('category').cat.codes\n",
        "correlation=data[data.columns[1:]].corr().abs()['loan_status'][:].sort_values(ascending=False)\n",
        "print(correlation[:30])"
      ],
      "execution_count": 38,
      "outputs": [
        {
          "output_type": "stream",
          "text": [
            "loan_status              1.000000\n",
            "int_rate                 0.221165\n",
            "total_rec_late_fee       0.116784\n",
            "acc_open_past_24mths     0.107781\n",
            "num_tl_op_past_12m       0.097584\n",
            "dti                      0.085629\n",
            "total_bc_limit           0.084242\n",
            "tot_hi_cred_lim          0.083235\n",
            "inq_last_6mths           0.082391\n",
            "bc_open_to_buy           0.080680\n",
            "avg_cur_bal              0.078106\n",
            "tot_cur_bal              0.076399\n",
            "mort_acc                 0.073094\n",
            "mo_sin_rcnt_tl           0.063208\n",
            "mo_sin_rcnt_rev_tl_op    0.061228\n",
            "percent_bc_gt_75         0.060240\n",
            "mths_since_recent_bc     0.059630\n",
            "mo_sin_old_rev_tl_op     0.058799\n",
            "mths_since_recent_inq    0.057039\n",
            "bc_util                  0.055087\n",
            "num_actv_rev_tl          0.053107\n",
            "num_rev_tl_bal_gt_0      0.052602\n",
            "total_rev_hi_lim         0.052033\n",
            "annual_inc               0.046814\n",
            "revol_util               0.040190\n",
            "mo_sin_old_il_acct       0.039771\n",
            "revol_bal                0.036605\n",
            "pub_rec_bankruptcies     0.032078\n",
            "total_rec_int            0.030470\n",
            "pub_rec                  0.025926\n",
            "Name: loan_status, dtype: float64\n"
          ],
          "name": "stdout"
        }
      ]
    },
    {
      "cell_type": "code",
      "metadata": {
        "id": "Xj5JFiyLa8yW",
        "outputId": "f058d1b2-6e72-4a19-f2ba-c33083fbe704",
        "colab": {
          "base_uri": "https://localhost:8080/",
          "height": 374
        }
      },
      "source": [
        "data[\"title\"].value_counts()"
      ],
      "execution_count": 39,
      "outputs": [
        {
          "output_type": "execute_result",
          "data": {
            "text/plain": [
              "Debt consolidation                         71963\n",
              "Credit card refinancing                    28515\n",
              "Home improvement                            6624\n",
              "Other                                       6042\n",
              "Major purchase                              2040\n",
              "Car financing                               1155\n",
              "Medical expenses                            1149\n",
              "Business                                    1052\n",
              "Moving and relocation                        869\n",
              "Vacation                                     856\n",
              "Home buying                                  441\n",
              "Green loan                                    76\n",
              "New Baby and New House (CC Consolidate)        1\n",
              "new kitchen for momma!                         1\n",
              "Trying to come back to reality!                1\n",
              "Prescription Drug and Medical Costs            1\n",
              "Pay off Lowes Card                             1\n",
              "Simple Loan Until Contract Is Completed        1\n",
              "Paying off higher interest cards & auto        1\n",
              "Learning and training                          1\n",
              "Name: title, dtype: int64"
            ]
          },
          "metadata": {
            "tags": []
          },
          "execution_count": 39
        }
      ]
    },
    {
      "cell_type": "code",
      "metadata": {
        "id": "_N7lxn42bTi_"
      },
      "source": [
        "data = data.drop(data[data[\"title\"] == \"Prescription Drug and Medical Costs\"].index)\n",
        "data = data.drop(data[data[\"title\"] == \"Trying to come back to reality!\"].index)\n",
        "data = data.drop(data[data[\"title\"] == \"Paying off higher interest cards & auto\"].index)\n",
        "data = data.drop(data[data[\"title\"] == \"Simple Loan Until Contract Is Completed\"].index)\n",
        "data = data.drop(data[data[\"title\"] == \"Learning and training\"].index)\n",
        "data = data.drop(data[data[\"title\"] == \"new kitchen for momma!\"].index)\n",
        "data = data.drop(data[data[\"title\"] == \"Pay off Lowes Card\"].index)\n",
        "data = data.drop(data[data[\"title\"] == \"New Baby and New House (CC Consolidate)\"].index)"
      ],
      "execution_count": 40,
      "outputs": []
    },
    {
      "cell_type": "code",
      "metadata": {
        "id": "aIv2HUMLjIyu"
      },
      "source": [
        "#data = data.drop([\"total_pymnt_inv\",\"last_pymnt_d\",\"num_tl_30dpd\",\"debt_settlement_flag\",\"issue_d\",\"zip_code\",\"total_rec_prncp\",\"total_pymnt\",\"funded_amnt\",\"total_rec_late_fee\",\"last_credit_pull_d\",\"last_pymnt_amnt\",\"total_rec_int\"],axis = 1)"
      ],
      "execution_count": 41,
      "outputs": []
    },
    {
      "cell_type": "markdown",
      "metadata": {
        "id": "-b-7mV880IDU"
      },
      "source": [
        "### Handling Categorical Variables"
      ]
    },
    {
      "cell_type": "code",
      "metadata": {
        "id": "PIA_HPO1GMVP"
      },
      "source": [
        "le = LabelEncoder()\n",
        "le.fit(data['grade'].astype(str))\n",
        "data['grade']=le.transform(data['grade'].astype(str))\n",
        "\n",
        "\n",
        "le.fit(data['sub_grade'].astype(str))\n",
        "data['sub_grade']=le.transform(data['sub_grade'].astype(str))\n",
        "\n",
        "\n",
        "le.fit(data['home_ownership'].astype(str))\n",
        "data['home_ownership']=le.transform(data['home_ownership'].astype(str))\n",
        "\n",
        "\n",
        "le.fit(data['verification_status'].astype(str))\n",
        "data['verification_status']=le.transform(data['verification_status'].astype(str))\n",
        "\n",
        "\n",
        "le.fit(data['purpose'].astype(str))\n",
        "data['purpose']=le.transform(data['purpose'].astype(str))\n",
        "\n",
        "\n",
        "\n",
        "le.fit(data['initial_list_status'].astype(str))\n",
        "data['initial_list_status']=le.transform(data['initial_list_status'].astype(str))\n",
        "\n",
        "\n",
        "le.fit(data['addr_state'].astype(str))\n",
        "data['addr_state']=le.transform(data['addr_state'].astype(str))\n",
        "\n",
        "le.fit(data['title'].astype(str))\n",
        "data['title']=le.transform(data['title'].astype(str))\n",
        "\n",
        "le.fit(data['zip_code'].astype(str))\n",
        "data['zip_code']=le.transform(data['zip_code'].astype(str))\n",
        "\n",
        "le.fit(data['emp_title'].astype(str))\n",
        "data['emp_title']=le.transform(data['emp_title'].astype(str))"
      ],
      "execution_count": 42,
      "outputs": []
    },
    {
      "cell_type": "code",
      "metadata": {
        "id": "qIJDOTKfAgYg",
        "outputId": "20ac4d71-9877-47e5-e88a-48802e23b5e3",
        "colab": {
          "base_uri": "https://localhost:8080/",
          "height": 85
        }
      },
      "source": [
        "data.groupby(\"loan_status\")[\"loan_status\"].count()"
      ],
      "execution_count": 44,
      "outputs": [
        {
          "output_type": "execute_result",
          "data": {
            "text/plain": [
              "loan_status\n",
              "0     18267\n",
              "1    102515\n",
              "Name: loan_status, dtype: int64"
            ]
          },
          "metadata": {
            "tags": []
          },
          "execution_count": 44
        }
      ]
    },
    {
      "cell_type": "markdown",
      "metadata": {
        "id": "GJn5RlYlv6sm"
      },
      "source": [
        "#Fully paid = 1\n",
        "#Charged off = 0"
      ]
    },
    {
      "cell_type": "code",
      "metadata": {
        "id": "I5Qs38Vkh6Eg",
        "outputId": "b1a592fa-7bd3-4924-8d0f-ffd13b141951",
        "colab": {
          "base_uri": "https://localhost:8080/",
          "height": 34
        }
      },
      "source": [
        "data.shape\n"
      ],
      "execution_count": 46,
      "outputs": [
        {
          "output_type": "execute_result",
          "data": {
            "text/plain": [
              "(120782, 67)"
            ]
          },
          "metadata": {
            "tags": []
          },
          "execution_count": 46
        }
      ]
    },
    {
      "cell_type": "markdown",
      "metadata": {
        "id": "Sf4p8QNSwBXO"
      },
      "source": [
        "66 Predictors "
      ]
    },
    {
      "cell_type": "markdown",
      "metadata": {
        "id": "MGk0u4FdwDOo"
      },
      "source": [
        "# **DATA MODELING**"
      ]
    },
    {
      "cell_type": "markdown",
      "metadata": {
        "id": "Z2Kiqeq9kjR-"
      },
      "source": [
        "Dividing data in predictors and target variable and then in train test split"
      ]
    },
    {
      "cell_type": "code",
      "metadata": {
        "id": "x99gmJCJh58q"
      },
      "source": [
        "Y = data[\"loan_status\"]\n",
        "#Y=pd.DataFrame(Y)\n",
        "X = data.drop([\"loan_status\"],axis = 1)"
      ],
      "execution_count": 48,
      "outputs": []
    },
    {
      "cell_type": "code",
      "metadata": {
        "id": "VDpm5mblh57i"
      },
      "source": [
        "#train test split\n",
        "X_train,X_test,y_train,y_test = train_test_split(X,Y,test_size = 0.3,random_state = 42)"
      ],
      "execution_count": 49,
      "outputs": []
    },
    {
      "cell_type": "code",
      "metadata": {
        "id": "dt8k6ECo_6Eo",
        "outputId": "063abd2b-c528-485f-97b4-e10c3a9ae958",
        "colab": {
          "base_uri": "https://localhost:8080/",
          "height": 34
        }
      },
      "source": [
        "X_train.shape,X_test.shape,y_train.shape,y_test.shape"
      ],
      "execution_count": 50,
      "outputs": [
        {
          "output_type": "execute_result",
          "data": {
            "text/plain": [
              "((84547, 65), (36235, 65), (84547,), (36235,))"
            ]
          },
          "metadata": {
            "tags": []
          },
          "execution_count": 50
        }
      ]
    },
    {
      "cell_type": "code",
      "metadata": {
        "id": "ncVweZ_Vs7zN",
        "outputId": "5ed5cf96-431c-4017-ffa2-7ff7f6f75a7a",
        "colab": {
          "base_uri": "https://localhost:8080/",
          "height": 34
        }
      },
      "source": [
        "counter = Counter(y_train)\n",
        "print(counter)"
      ],
      "execution_count": 51,
      "outputs": [
        {
          "output_type": "stream",
          "text": [
            "Counter({1: 71762, 0: 12785})\n"
          ],
          "name": "stdout"
        }
      ]
    },
    {
      "cell_type": "markdown",
      "metadata": {
        "id": "9I-2XEbbqmmQ"
      },
      "source": [
        "### **OVERSAMPLING**\n",
        "There's a class imbalance in the dataset. I have used SMOTE technique to balance that on the training data."
      ]
    },
    {
      "cell_type": "code",
      "metadata": {
        "id": "hNf4RbNOHmOJ"
      },
      "source": [
        "smote = SMOTE(sampling_strategy = \"auto\",random_state=42)\n",
        "X_sm, y_sm = smote.fit_sample(X_train, y_train.ravel())\n",
        "X_sm = pd.DataFrame(X_sm)\n",
        "#y_sm = pd.DataFrame(y_sm)\n",
        "X_sm.columns  = X.columns\n",
        "#y_sm.columns = [\"loan_status\"]\n",
        "X_train = X_sm\n",
        "y_train = y_sm"
      ],
      "execution_count": 52,
      "outputs": []
    },
    {
      "cell_type": "markdown",
      "metadata": {
        "id": "pSZ5BRgH0afi"
      },
      "source": [
        "#### Training data is balanced "
      ]
    },
    {
      "cell_type": "code",
      "metadata": {
        "id": "KNs7giveu_WS",
        "outputId": "b9f2b043-9331-457f-c0c6-cb014bc0619e",
        "colab": {
          "base_uri": "https://localhost:8080/",
          "height": 34
        }
      },
      "source": [
        "counter = Counter(y_train)\n",
        "print(counter)"
      ],
      "execution_count": 53,
      "outputs": [
        {
          "output_type": "stream",
          "text": [
            "Counter({1: 71762, 0: 71762})\n"
          ],
          "name": "stdout"
        }
      ]
    },
    {
      "cell_type": "markdown",
      "metadata": {
        "id": "pabHMTsa0eOF"
      },
      "source": [
        "Testing data in not balanced, and will be used for model evaluation"
      ]
    },
    {
      "cell_type": "code",
      "metadata": {
        "id": "KKYOtknlvb6w",
        "outputId": "2ce5dc01-66d2-4294-90fe-5422e3dca033",
        "colab": {
          "base_uri": "https://localhost:8080/",
          "height": 34
        }
      },
      "source": [
        "counter = Counter(y_test)\n",
        "print(counter)"
      ],
      "execution_count": 54,
      "outputs": [
        {
          "output_type": "stream",
          "text": [
            "Counter({1: 30753, 0: 5482})\n"
          ],
          "name": "stdout"
        }
      ]
    },
    {
      "cell_type": "markdown",
      "metadata": {
        "id": "MYZYxV5_wJ5Y"
      },
      "source": [
        "# **Decision Tree Model**"
      ]
    },
    {
      "cell_type": "code",
      "metadata": {
        "id": "zAgv02VJWHUD"
      },
      "source": [
        "X_train_dt,X_test_dt ,y_train_dt,y_test_dt = X_train,X_test,y_train, y_test"
      ],
      "execution_count": 55,
      "outputs": []
    },
    {
      "cell_type": "code",
      "metadata": {
        "id": "eyxtA5Owv4Jk",
        "outputId": "c6e392b1-424f-41b0-ca49-fcc4b6171cf6",
        "colab": {
          "base_uri": "https://localhost:8080/",
          "height": 34
        }
      },
      "source": [
        "X_train_dt.shape,y_train_dt.shape,X_test_dt.shape,y_test_dt.shape"
      ],
      "execution_count": 56,
      "outputs": [
        {
          "output_type": "execute_result",
          "data": {
            "text/plain": [
              "((143524, 65), (143524,), (36235, 65), (36235,))"
            ]
          },
          "metadata": {
            "tags": []
          },
          "execution_count": 56
        }
      ]
    },
    {
      "cell_type": "code",
      "metadata": {
        "id": "qFLN24l5h52B"
      },
      "source": [
        "clf = tree.DecisionTreeClassifier()\n",
        "clf = clf.fit(X_train_dt, y_train_dt)"
      ],
      "execution_count": 57,
      "outputs": []
    },
    {
      "cell_type": "code",
      "metadata": {
        "id": "RR09IB_d7t6Q"
      },
      "source": [
        "y_pred_train_dt = clf.predict(X_train_dt)\n",
        "y_pred_test_dt = clf.predict(X_test_dt)"
      ],
      "execution_count": 58,
      "outputs": []
    },
    {
      "cell_type": "code",
      "metadata": {
        "id": "hO93h2u27-01",
        "outputId": "d1acac0e-f44e-49da-9048-d9b0b8862e77",
        "colab": {
          "base_uri": "https://localhost:8080/",
          "height": 119
        }
      },
      "source": [
        "print(\"Confusion Matrix of train set: \\n\",confusion_matrix( y_true = y_train_dt, y_pred = y_pred_train_dt))\n",
        "print(\"Confusion Matrix of train set: \\n\",confusion_matrix( y_true = y_test, y_pred = y_pred_test_dt))"
      ],
      "execution_count": 59,
      "outputs": [
        {
          "output_type": "stream",
          "text": [
            "Confusion Matrix of train set: \n",
            " [[71762     0]\n",
            " [    0 71762]]\n",
            "Confusion Matrix of train set: \n",
            " [[ 1623  3859]\n",
            " [ 4622 26131]]\n"
          ],
          "name": "stdout"
        }
      ]
    },
    {
      "cell_type": "code",
      "metadata": {
        "id": "61xcpXdu1pnq",
        "outputId": "245d3934-19b5-42c5-a4a7-61620a395b14",
        "colab": {
          "base_uri": "https://localhost:8080/",
          "height": 51
        }
      },
      "source": [
        "print(\"Recall on train set: \",recall_score(y_true = y_train_dt, y_pred = y_pred_train_dt)*100)\n",
        "print(\"Recall on test set: \",recall_score(y_true = y_test, y_pred = y_pred_test_dt)*100)"
      ],
      "execution_count": 60,
      "outputs": [
        {
          "output_type": "stream",
          "text": [
            "Recall on train set:  100.0\n",
            "Recall on test set:  84.97057197671772\n"
          ],
          "name": "stdout"
        }
      ]
    },
    {
      "cell_type": "code",
      "metadata": {
        "id": "GWg7Am4TO4Ei",
        "outputId": "ccd6602c-b092-41e3-8b14-3001c635f03f",
        "colab": {
          "base_uri": "https://localhost:8080/",
          "height": 51
        }
      },
      "source": [
        "print(\"Precision on train set: \",precision_score(y_true = y_train_dt, y_pred = y_pred_train_dt)*100)\n",
        "print(\"Precision on test set: \",precision_score(y_true = y_test, y_pred = y_pred_test_dt)*100)"
      ],
      "execution_count": 61,
      "outputs": [
        {
          "output_type": "stream",
          "text": [
            "Precision on train set:  100.0\n",
            "Precision on test set:  87.13237745915305\n"
          ],
          "name": "stdout"
        }
      ]
    },
    {
      "cell_type": "code",
      "metadata": {
        "id": "JdCqNUPl9k_a",
        "outputId": "75a263d4-d81a-4f52-e7b7-4665347b31b4",
        "colab": {
          "base_uri": "https://localhost:8080/",
          "height": 51
        }
      },
      "source": [
        "print(\"Accuracy on train set: \",accuracy_score(y_true = y_train_dt, y_pred = y_pred_train_dt)*100)\n",
        "print(\"Accuracy on test set: \",accuracy_score(y_true = y_test, y_pred = y_pred_test_dt)*100)"
      ],
      "execution_count": 62,
      "outputs": [
        {
          "output_type": "stream",
          "text": [
            "Accuracy on train set:  100.0\n",
            "Accuracy on test set:  76.59445287705257\n"
          ],
          "name": "stdout"
        }
      ]
    },
    {
      "cell_type": "markdown",
      "metadata": {
        "id": "melaxCcjk9nJ"
      },
      "source": [
        "# As the dataset in highly imbalanced, I have used **PR curve and F1 score** for model evaluation"
      ]
    },
    {
      "cell_type": "markdown",
      "metadata": {
        "id": "y1OC4VGJ22rs"
      },
      "source": [
        "#### Precision - Recall Curve for Decision Tree Model"
      ]
    },
    {
      "cell_type": "code",
      "metadata": {
        "id": "xAeeay6M21xb",
        "outputId": "08c094e3-5864-4b69-b429-560f80fa8f3a",
        "colab": {
          "base_uri": "https://localhost:8080/",
          "height": 34
        }
      },
      "source": [
        "average_precision = average_precision_score(y_true=y_test, y_score=y_pred_test_dt)\n",
        "print('Average precision-recall score: {0:0.2f}'.format(average_precision))\n"
      ],
      "execution_count": 63,
      "outputs": [
        {
          "output_type": "stream",
          "text": [
            "Average precision-recall score: 0.87\n"
          ],
          "name": "stdout"
        }
      ]
    },
    {
      "cell_type": "code",
      "metadata": {
        "id": "v_1n_uI839WK",
        "outputId": "3d45d9b2-0d45-46e4-85f3-2d80d53d94c2",
        "colab": {
          "base_uri": "https://localhost:8080/",
          "height": 312
        }
      },
      "source": [
        "disp = plot_precision_recall_curve(clf, X_test_dt, y_test_dt)\n",
        "disp.ax_.set_title('2-class Precision-Recall curve: ''AP={0:0.2f}'.format(average_precision))"
      ],
      "execution_count": 64,
      "outputs": [
        {
          "output_type": "execute_result",
          "data": {
            "text/plain": [
              "Text(0.5, 1.0, '2-class Precision-Recall curve: AP=0.87')"
            ]
          },
          "metadata": {
            "tags": []
          },
          "execution_count": 64
        },
        {
          "output_type": "display_data",
          "data": {
            "image/png": "[encoded data removed]",
            "text/plain": [
              "<Figure size 432x288 with 1 Axes>"
            ]
          },
          "metadata": {
            "tags": [],
            "needs_background": "light"
          }
        }
      ]
    },
    {
      "cell_type": "markdown",
      "metadata": {
        "id": "sV_SpeSalVSW"
      },
      "source": [
        "This graph shows that the model is not predicting well"
      ]
    },
    {
      "cell_type": "code",
      "metadata": {
        "id": "C3ihx6mahfSn",
        "outputId": "a06790b9-1384-4fc4-a6ea-6e6f2b091461",
        "colab": {
          "base_uri": "https://localhost:8080/",
          "height": 34
        }
      },
      "source": [
        "precision, recall, _ = precision_recall_curve(y_test_dt,y_pred_test_dt)\n",
        "auc_score = auc(recall, precision)\n",
        "print('DT PR AUC: %.3f' % auc_score)"
      ],
      "execution_count": 65,
      "outputs": [
        {
          "output_type": "stream",
          "text": [
            "DT PR AUC: 0.924\n"
          ],
          "name": "stdout"
        }
      ]
    },
    {
      "cell_type": "code",
      "metadata": {
        "id": "qQ1n7q4NQJMq",
        "outputId": "6073a219-b694-4bbc-8942-98b46ede4436",
        "colab": {
          "base_uri": "https://localhost:8080/",
          "height": 34
        }
      },
      "source": [
        "print(\"f1 score for decision tree model is: \",f1_score(y_true = y_test, y_pred = y_pred_test_dt))"
      ],
      "execution_count": 91,
      "outputs": [
        {
          "output_type": "stream",
          "text": [
            "f1 score for decision tree model is:  0.8603789737089047\n"
          ],
          "name": "stdout"
        }
      ]
    },
    {
      "cell_type": "markdown",
      "metadata": {
        "id": "w2L_WSndR6js"
      },
      "source": [
        "# **Random Forest**"
      ]
    },
    {
      "cell_type": "code",
      "metadata": {
        "id": "T-GMuAjSZzEv"
      },
      "source": [
        "X_train_rf,X_test_rf,y_train_rf, y_test_rf = X_train_dt,X_test_dt ,y_train_dt,y_test_dt \n"
      ],
      "execution_count": 67,
      "outputs": []
    },
    {
      "cell_type": "code",
      "metadata": {
        "id": "ZnfOiKOhiO4z",
        "outputId": "76256977-34b0-411d-83fc-9863fce60f1a",
        "colab": {
          "base_uri": "https://localhost:8080/",
          "height": 153
        }
      },
      "source": [
        "rf = RandomForestClassifier(n_estimators=100) \n",
        "rf.fit(X_train_rf, y_train_rf)"
      ],
      "execution_count": 68,
      "outputs": [
        {
          "output_type": "execute_result",
          "data": {
            "text/plain": [
              "RandomForestClassifier(bootstrap=True, ccp_alpha=0.0, class_weight=None,\n",
              "                       criterion='gini', max_depth=None, max_features='auto',\n",
              "                       max_leaf_nodes=None, max_samples=None,\n",
              "                       min_impurity_decrease=0.0, min_impurity_split=None,\n",
              "                       min_samples_leaf=1, min_samples_split=2,\n",
              "                       min_weight_fraction_leaf=0.0, n_estimators=100,\n",
              "                       n_jobs=None, oob_score=False, random_state=None,\n",
              "                       verbose=0, warm_start=False)"
            ]
          },
          "metadata": {
            "tags": []
          },
          "execution_count": 68
        }
      ]
    },
    {
      "cell_type": "code",
      "metadata": {
        "id": "VlES22_qrhJT"
      },
      "source": [
        "y_pred_train_rf = rf.predict(X_train_rf)\n",
        "y_pred_test_rf = rf.predict(X_test_rf)"
      ],
      "execution_count": 69,
      "outputs": []
    },
    {
      "cell_type": "code",
      "metadata": {
        "id": "wH__w0HCrrFT",
        "outputId": "42440f5f-b1db-445f-e989-2a1a03b77f0b",
        "colab": {
          "base_uri": "https://localhost:8080/",
          "height": 119
        }
      },
      "source": [
        "print(\"Confusion Matrix of train set: \\n\",confusion_matrix( y_true = y_train_rf, y_pred = y_pred_train_rf))\n",
        "print(\"Confusion Matrix of train set: \\n\",confusion_matrix( y_true = y_test_rf, y_pred = y_pred_test_rf))"
      ],
      "execution_count": 70,
      "outputs": [
        {
          "output_type": "stream",
          "text": [
            "Confusion Matrix of train set: \n",
            " [[71762     0]\n",
            " [    0 71762]]\n",
            "Confusion Matrix of train set: \n",
            " [[  533  4949]\n",
            " [  493 30260]]\n"
          ],
          "name": "stdout"
        }
      ]
    },
    {
      "cell_type": "code",
      "metadata": {
        "id": "bkROpoofrrwX",
        "outputId": "68bad83c-76ba-400d-8a86-d3e5b5640cd3",
        "colab": {
          "base_uri": "https://localhost:8080/",
          "height": 51
        }
      },
      "source": [
        "print(\"Recall on train set: \",recall_score( y_true = y_train_rf, y_pred = y_pred_train_rf )*100)\n",
        "print(\"Recall on test set: \",recall_score( y_true = y_test_rf, y_pred = y_pred_test_rf )*100)"
      ],
      "execution_count": 71,
      "outputs": [
        {
          "output_type": "stream",
          "text": [
            "Recall on train set:  100.0\n",
            "Recall on test set:  98.39690436705362\n"
          ],
          "name": "stdout"
        }
      ]
    },
    {
      "cell_type": "code",
      "metadata": {
        "id": "I2WjfdbXsfhj",
        "outputId": "d83529e9-cb05-4dcb-cafb-9c14bb699658",
        "colab": {
          "base_uri": "https://localhost:8080/",
          "height": 51
        }
      },
      "source": [
        "print(\"Precision on train set: \",precision_score( y_true = y_train_rf, y_pred = y_pred_train_rf )*100)\n",
        "print(\"Precision on test set: \",precision_score( y_true = y_test_rf, y_pred = y_pred_test_rf )*100)"
      ],
      "execution_count": 72,
      "outputs": [
        {
          "output_type": "stream",
          "text": [
            "Precision on train set:  100.0\n",
            "Precision on test set:  85.94393478940043\n"
          ],
          "name": "stdout"
        }
      ]
    },
    {
      "cell_type": "code",
      "metadata": {
        "id": "Mmmsyk7n6F0a",
        "outputId": "5b2f7c9a-90e1-4205-b922-a1ae6aef5a1c",
        "colab": {
          "base_uri": "https://localhost:8080/",
          "height": 51
        }
      },
      "source": [
        "print(\"Accuracy on train set: \",accuracy_score(y_true = y_train_rf, y_pred = y_pred_train_rf)*100)\n",
        "print(\"Accuracy on test set: \",accuracy_score(y_true = y_test_rf, y_pred = y_pred_test_rf)*100)"
      ],
      "execution_count": 73,
      "outputs": [
        {
          "output_type": "stream",
          "text": [
            "Accuracy on train set:  100.0\n",
            "Accuracy on test set:  84.98137160204222\n"
          ],
          "name": "stdout"
        }
      ]
    },
    {
      "cell_type": "markdown",
      "metadata": {
        "id": "Yv3N2qah6UIh"
      },
      "source": [
        "#### Precision - Recall Curve for Random Forest Model"
      ]
    },
    {
      "cell_type": "code",
      "metadata": {
        "id": "iYQkD1_n5_r0",
        "outputId": "7e25b335-9a65-4830-bf07-6601e2c7db6f",
        "colab": {
          "base_uri": "https://localhost:8080/",
          "height": 34
        }
      },
      "source": [
        "average_precision = average_precision_score(y_true=y_test_rf, y_score=y_pred_test_rf)\n",
        "print('Average precision-recall score: {0:0.2f}'.format(average_precision))\n"
      ],
      "execution_count": 74,
      "outputs": [
        {
          "output_type": "stream",
          "text": [
            "Average precision-recall score: 0.86\n"
          ],
          "name": "stdout"
        }
      ]
    },
    {
      "cell_type": "code",
      "metadata": {
        "id": "Ff_tZOQb6AHr",
        "outputId": "f9d37673-45cd-49b2-8406-f23744c9905b",
        "colab": {
          "base_uri": "https://localhost:8080/",
          "height": 312
        }
      },
      "source": [
        "disp = plot_precision_recall_curve(rf, X_test_rf, y_test_rf)\n",
        "disp.ax_.set_title('2-class Precision-Recall curve: ''AP={0:0.2f}'.format(average_precision))"
      ],
      "execution_count": 75,
      "outputs": [
        {
          "output_type": "execute_result",
          "data": {
            "text/plain": [
              "Text(0.5, 1.0, '2-class Precision-Recall curve: AP=0.86')"
            ]
          },
          "metadata": {
            "tags": []
          },
          "execution_count": 75
        },
        {
          "output_type": "display_data",
          "data": {
            "image/png": "[encoded data removed]",
            "text/plain": [
              "<Figure size 432x288 with 1 Axes>"
            ]
          },
          "metadata": {
            "tags": [],
            "needs_background": "light"
          }
        }
      ]
    },
    {
      "cell_type": "markdown",
      "metadata": {
        "id": "6W0daTVeldWn"
      },
      "source": [
        "This graph shows random forest is predicting better than DT"
      ]
    },
    {
      "cell_type": "code",
      "metadata": {
        "id": "H7iL8UFPhQKY",
        "outputId": "f768b130-018b-4fbc-d706-1818f1d90628",
        "colab": {
          "base_uri": "https://localhost:8080/",
          "height": 34
        }
      },
      "source": [
        "precision, recall, _ = precision_recall_curve(y_test_rf,y_pred_test_rf )\n",
        "auc_score = auc(recall, precision)\n",
        "print('Random Forest PR AUC: %.3f' % auc_score)"
      ],
      "execution_count": 76,
      "outputs": [
        {
          "output_type": "stream",
          "text": [
            "Random Forest PR AUC: 0.929\n"
          ],
          "name": "stdout"
        }
      ]
    },
    {
      "cell_type": "code",
      "metadata": {
        "id": "uZYTezrKQi8x",
        "outputId": "085e743e-9e71-4f10-fd12-e2f51b2cd8dc",
        "colab": {
          "base_uri": "https://localhost:8080/",
          "height": 34
        }
      },
      "source": [
        "print(\"f1 score for random forest model is: \",f1_score(y_true = y_test_rf, y_pred = y_pred_test_rf))"
      ],
      "execution_count": 92,
      "outputs": [
        {
          "output_type": "stream",
          "text": [
            "f1 score for random forest model is:  0.9174979533670901\n"
          ],
          "name": "stdout"
        }
      ]
    },
    {
      "cell_type": "markdown",
      "metadata": {
        "id": "bTdlVTTHlmkf"
      },
      "source": [
        "### **F1 score of RF model is higher than DT model**"
      ]
    },
    {
      "cell_type": "markdown",
      "metadata": {
        "id": "zC20bRLI_s3i"
      },
      "source": [
        "# **XGBOOST**"
      ]
    },
    {
      "cell_type": "code",
      "metadata": {
        "id": "QpFQ6HniA1c5"
      },
      "source": [
        "X_train_xg,X_test_xg,y_train_xg, y_test_xg = X_train_dt,X_test_dt ,y_train_dt,y_test_dt "
      ],
      "execution_count": 78,
      "outputs": []
    },
    {
      "cell_type": "code",
      "metadata": {
        "id": "GL1_ZRHLgNwf",
        "outputId": "01a38e5b-6be5-42a0-a317-19f680ce07ee",
        "colab": {
          "base_uri": "https://localhost:8080/",
          "height": 136
        }
      },
      "source": [
        "model = XGBClassifier(booster='gbtree', n_estimators=300,subsample=0.6,\n",
        "                        objective='binary:logistic', random_state=42)\n",
        "model.fit(X_train_xg, y_train_xg)"
      ],
      "execution_count": 79,
      "outputs": [
        {
          "output_type": "execute_result",
          "data": {
            "text/plain": [
              "XGBClassifier(base_score=0.5, booster='gbtree', colsample_bylevel=1,\n",
              "              colsample_bynode=1, colsample_bytree=1, gamma=0,\n",
              "              learning_rate=0.1, max_delta_step=0, max_depth=3,\n",
              "              min_child_weight=1, missing=None, n_estimators=300, n_jobs=1,\n",
              "              nthread=None, objective='binary:logistic', random_state=42,\n",
              "              reg_alpha=0, reg_lambda=1, scale_pos_weight=1, seed=None,\n",
              "              silent=None, subsample=0.6, verbosity=1)"
            ]
          },
          "metadata": {
            "tags": []
          },
          "execution_count": 79
        }
      ]
    },
    {
      "cell_type": "code",
      "metadata": {
        "id": "mC7VplLCrzfL"
      },
      "source": [
        "y_pred_train_xg = model.predict(X_train_xg)"
      ],
      "execution_count": 80,
      "outputs": []
    },
    {
      "cell_type": "code",
      "metadata": {
        "id": "oQrNTmTM_8BU"
      },
      "source": [
        "y_pred_test_xg = model.predict(X_test_xg)"
      ],
      "execution_count": 81,
      "outputs": []
    },
    {
      "cell_type": "code",
      "metadata": {
        "id": "BaBVRA7XAF5L",
        "outputId": "c4ac0120-be0e-454f-de7a-718306df0b27",
        "colab": {
          "base_uri": "https://localhost:8080/",
          "height": 119
        }
      },
      "source": [
        "print(\"Confusion Matrix of train set: \\n\",confusion_matrix( y_true = y_train_xg, y_pred = y_pred_train_xg))\n",
        "print(\"Confusion Matrix of train set: \\n\",confusion_matrix( y_true = y_test_xg, y_pred = y_pred_test_xg))"
      ],
      "execution_count": 82,
      "outputs": [
        {
          "output_type": "stream",
          "text": [
            "Confusion Matrix of train set: \n",
            " [[60864 10898]\n",
            " [ 1038 70724]]\n",
            "Confusion Matrix of train set: \n",
            " [[  775  4707]\n",
            " [  511 30242]]\n"
          ],
          "name": "stdout"
        }
      ]
    },
    {
      "cell_type": "code",
      "metadata": {
        "id": "uATFUvIYAOmw",
        "outputId": "61872a8c-dfbe-4c62-ce4a-cf325e3dcc9b",
        "colab": {
          "base_uri": "https://localhost:8080/",
          "height": 51
        }
      },
      "source": [
        "print(\"Recall on train set: \",recall_score( y_true = y_train_xg, y_pred = y_pred_train_xg )*100)\n",
        "print(\"Recall on test set: \",recall_score( y_true = y_test_xg, y_pred = y_pred_test_xg )*100)"
      ],
      "execution_count": 83,
      "outputs": [
        {
          "output_type": "stream",
          "text": [
            "Recall on train set:  98.55355201917449\n",
            "Recall on test set:  98.33837349201704\n"
          ],
          "name": "stdout"
        }
      ]
    },
    {
      "cell_type": "code",
      "metadata": {
        "id": "U1_BDgN2AXyW",
        "outputId": "f5426301-536b-4e40-cde8-c31f8422d7cb",
        "colab": {
          "base_uri": "https://localhost:8080/",
          "height": 51
        }
      },
      "source": [
        "print(\"Precision on train set: \",precision_score( y_true = y_train_xg, y_pred = y_pred_train_xg )*100)\n",
        "print(\"Precision on test set: \",precision_score( y_true = y_test_xg, y_pred = y_pred_test_xg )*100)"
      ],
      "execution_count": 84,
      "outputs": [
        {
          "output_type": "stream",
          "text": [
            "Precision on train set:  86.64820759109064\n",
            "Precision on test set:  86.53180348507826\n"
          ],
          "name": "stdout"
        }
      ]
    },
    {
      "cell_type": "code",
      "metadata": {
        "id": "jGM3oMARAXMK",
        "outputId": "e5e68c32-6820-458d-f889-861ac0c9abb7",
        "colab": {
          "base_uri": "https://localhost:8080/",
          "height": 51
        }
      },
      "source": [
        "print(\"Accuracy on train set: \",accuracy_score( y_true = y_train_xg, y_pred = y_pred_train_xg )*100)\n",
        "print(\"Accuracy on test set: \",accuracy_score( y_true = y_test_xg, y_pred = y_pred_test_xg )*100)"
      ],
      "execution_count": 85,
      "outputs": [
        {
          "output_type": "stream",
          "text": [
            "Accuracy on train set:  91.68362085783562\n",
            "Accuracy on test set:  85.59955843797434\n"
          ],
          "name": "stdout"
        }
      ]
    },
    {
      "cell_type": "code",
      "metadata": {
        "id": "eG9fT9GID1F0",
        "outputId": "ae1a7696-7f5d-4c54-9cd1-e3a3326baee3",
        "colab": {
          "base_uri": "https://localhost:8080/",
          "height": 34
        }
      },
      "source": [
        "average_precision = average_precision_score(y_true=y_test_xg, y_score=y_pred_test_xg)\n",
        "print('Average precision-recall score: {0:0.2f}'.format(average_precision))\n"
      ],
      "execution_count": 86,
      "outputs": [
        {
          "output_type": "stream",
          "text": [
            "Average precision-recall score: 0.87\n"
          ],
          "name": "stdout"
        }
      ]
    },
    {
      "cell_type": "code",
      "metadata": {
        "id": "T66tFu8mD1Jn",
        "outputId": "c46b960b-e52e-4cda-ff75-eed7b0575d5c",
        "colab": {
          "base_uri": "https://localhost:8080/",
          "height": 312
        }
      },
      "source": [
        "disp = plot_precision_recall_curve(model, X_test, y_test)\n",
        "disp.ax_.set_title('2-class Precision-Recall curve: ''AP={0:0.2f}'.format(average_precision))"
      ],
      "execution_count": 87,
      "outputs": [
        {
          "output_type": "execute_result",
          "data": {
            "text/plain": [
              "Text(0.5, 1.0, '2-class Precision-Recall curve: AP=0.87')"
            ]
          },
          "metadata": {
            "tags": []
          },
          "execution_count": 87
        },
        {
          "output_type": "display_data",
          "data": {
            "image/png": "[encoded data removed]",
            "text/plain": [
              "<Figure size 432x288 with 1 Axes>"
            ]
          },
          "metadata": {
            "tags": [],
            "needs_background": "light"
          }
        }
      ]
    },
    {
      "cell_type": "markdown",
      "metadata": {
        "id": "k8rR0NNzl3-g"
      },
      "source": [
        "### **XGBoost model PR curve shows it is better than both DT and RF model**"
      ]
    },
    {
      "cell_type": "code",
      "metadata": {
        "id": "51gp_FLlrqYD",
        "outputId": "58a18b07-fc37-4569-fb68-4f339a8ac5a4",
        "colab": {
          "base_uri": "https://localhost:8080/",
          "height": 34
        }
      },
      "source": [
        "precision, recall, _ = precision_recall_curve(y_test_xg,y_pred_test_xg )\n",
        "auc_score = auc(recall, precision)\n",
        "print('XGBoost PR AUC: %.3f' % auc_score)"
      ],
      "execution_count": 88,
      "outputs": [
        {
          "output_type": "stream",
          "text": [
            "XGBoost PR AUC: 0.931\n"
          ],
          "name": "stdout"
        }
      ]
    },
    {
      "cell_type": "code",
      "metadata": {
        "id": "B5-lFbbPrpiQ",
        "outputId": "da35d01e-4dc3-4c3e-d073-52c8b8507764",
        "colab": {
          "base_uri": "https://localhost:8080/",
          "height": 34
        }
      },
      "source": [
        "print(\"f1 score for xgboost model is: \",f1_score(y_true = y_test_xg, y_pred = y_pred_test_xg))"
      ],
      "execution_count": 93,
      "outputs": [
        {
          "output_type": "stream",
          "text": [
            "f1 score for xgboost model is:  0.9205808042373139\n"
          ],
          "name": "stdout"
        }
      ]
    },
    {
      "cell_type": "markdown",
      "metadata": {
        "id": "VQakKsecmGCK"
      },
      "source": [
        "### **F1 score of XG model is higher than both DT and RF model**"
      ]
    },
    {
      "cell_type": "code",
      "metadata": {
        "id": "x07QXFFHQ0QN"
      },
      "source": [
        ""
      ],
      "execution_count": null,
      "outputs": []
    },
    {
      "cell_type": "code",
      "metadata": {
        "id": "BbiKGuwPQ0Te"
      },
      "source": [
        ""
      ],
      "execution_count": null,
      "outputs": []
    },
    {
      "cell_type": "code",
      "metadata": {
        "id": "PJGVtcUwQzPr"
      },
      "source": [
        ""
      ],
      "execution_count": null,
      "outputs": []
    }
  ]
}